{
 "cells": [
  {
   "cell_type": "markdown",
   "id": "fiscal-border",
   "metadata": {},
   "source": [
    "# Working with Virtual environments\n",
    "\n",
    "**Author:** 'Felipe Millacura'\n",
    "\n",
    "**Date:** '17th January 2021'\n",
    "\n",
    "## Learning Objectives\n",
    "\n",
    "* Use Anaconda to generate new virtual environments \n",
    "* Importing virtual environments\n",
    "* Exporting requirements"
   ]
  },
  {
   "cell_type": "markdown",
   "id": "olive-prototype",
   "metadata": {},
   "source": [
    "### Creating an environment in the command line"
   ]
  },
  {
   "cell_type": "markdown",
   "id": "floral-secretariat",
   "metadata": {},
   "source": [
    "To create an environment:"
   ]
  },
  {
   "cell_type": "code",
   "execution_count": 1,
   "id": "operating-penny",
   "metadata": {},
   "outputs": [
    {
     "name": "stdout",
     "output_type": "stream",
     "text": [
      "^C\n",
      "\n",
      "Note: you may need to restart the kernel to use updated packages.\n"
     ]
    }
   ],
   "source": [
    "conda create --name myenv\n",
    "\n",
    "#proceed ([y]/n)?"
   ]
  },
  {
   "cell_type": "markdown",
   "id": "round-linux",
   "metadata": {},
   "source": [
    "To create an environment with a specific version of Python:"
   ]
  },
  {
   "cell_type": "code",
   "execution_count": null,
   "id": "happy-cycle",
   "metadata": {},
   "outputs": [],
   "source": [
    "conda create -n myenv python=3.6"
   ]
  },
  {
   "cell_type": "markdown",
   "id": "virtual-affair",
   "metadata": {},
   "source": [
    "To create an environment with a specific package:"
   ]
  },
  {
   "cell_type": "code",
   "execution_count": null,
   "id": "buried-cursor",
   "metadata": {},
   "outputs": [],
   "source": [
    "conda create -n myenv scipy"
   ]
  },
  {
   "cell_type": "markdown",
   "id": "agreed-agenda",
   "metadata": {},
   "source": [
    "or:"
   ]
  },
  {
   "cell_type": "code",
   "execution_count": null,
   "id": "neural-factory",
   "metadata": {},
   "outputs": [],
   "source": [
    "conda create -n myenv python\n",
    "conda install -n myenv scipy"
   ]
  },
  {
   "cell_type": "markdown",
   "id": "close-warning",
   "metadata": {},
   "source": [
    "To create an environment with a specific version of Python and multiple packages:"
   ]
  },
  {
   "cell_type": "code",
   "execution_count": null,
   "id": "indie-veteran",
   "metadata": {},
   "outputs": [],
   "source": [
    "conda create -n myenv python=3.6 scipy=0.15.0 astroid babel matplotlib "
   ]
  },
  {
   "cell_type": "markdown",
   "id": "trained-forest",
   "metadata": {},
   "source": [
    "### Creating an environment from an environment.yml file"
   ]
  },
  {
   "cell_type": "markdown",
   "id": "formal-abortion",
   "metadata": {},
   "source": [
    "Create the environment from the `environment.yml` file:"
   ]
  },
  {
   "cell_type": "code",
   "execution_count": null,
   "id": "simple-outline",
   "metadata": {},
   "outputs": [],
   "source": [
    "conda env create -f environment.yml"
   ]
  },
  {
   "cell_type": "markdown",
   "id": "bronze-arthritis",
   "metadata": {},
   "source": [
    "Activate the new environment"
   ]
  },
  {
   "cell_type": "code",
   "execution_count": null,
   "id": "adverse-thesaurus",
   "metadata": {},
   "outputs": [],
   "source": [
    "conda activate myenv"
   ]
  },
  {
   "cell_type": "markdown",
   "id": "annoying-trauma",
   "metadata": {},
   "source": [
    "Verify that the new environment was installed correctly:"
   ]
  },
  {
   "cell_type": "code",
   "execution_count": null,
   "id": "straight-response",
   "metadata": {},
   "outputs": [],
   "source": [
    "conda env list"
   ]
  },
  {
   "cell_type": "markdown",
   "id": "tested-yemen",
   "metadata": {},
   "source": [
    "### Specifying a location for an environment"
   ]
  },
  {
   "cell_type": "markdown",
   "id": "adolescent-immune",
   "metadata": {},
   "source": [
    "You can control where a conda environment lives by providing a path to a target directory when creating the environment. For example, the following command will create a new environment in a subdirectory of the current working directory called `envs`: "
   ]
  },
  {
   "cell_type": "code",
   "execution_count": null,
   "id": "muslim-penetration",
   "metadata": {},
   "outputs": [],
   "source": [
    "conda create --prefix ./envs jupyterlab=0.35 matplotlib=3.1 numpy=1.16"
   ]
  },
  {
   "cell_type": "markdown",
   "id": "residential-destiny",
   "metadata": {},
   "source": [
    "You then activate an environment created with a prefix using the same command used to activate environments created by name:"
   ]
  },
  {
   "cell_type": "code",
   "execution_count": null,
   "id": "universal-platinum",
   "metadata": {},
   "outputs": [],
   "source": [
    "conda activate ./envs"
   ]
  },
  {
   "cell_type": "markdown",
   "id": "lightweight-tobacco",
   "metadata": {},
   "source": [
    "### Deactivating an environment\n",
    "\n",
    "To deactivate an environment, type: "
   ]
  },
  {
   "cell_type": "code",
   "execution_count": null,
   "id": "sacred-tension",
   "metadata": {},
   "outputs": [],
   "source": [
    "conda deactivate"
   ]
  },
  {
   "cell_type": "markdown",
   "id": "intensive-continent",
   "metadata": {},
   "source": [
    "### Exporting the environment.yml file\n",
    "\n",
    "Activate the environment to export:"
   ]
  },
  {
   "cell_type": "code",
   "execution_count": null,
   "id": "emerging-dynamics",
   "metadata": {},
   "outputs": [],
   "source": [
    "conda activate myenv"
   ]
  },
  {
   "cell_type": "markdown",
   "id": "swiss-assumption",
   "metadata": {},
   "source": [
    "Export your active environment to a new file:"
   ]
  },
  {
   "cell_type": "code",
   "execution_count": null,
   "id": "western-warren",
   "metadata": {},
   "outputs": [],
   "source": [
    "conda env export > environment.yml"
   ]
  },
  {
   "cell_type": "markdown",
   "id": "medium-people",
   "metadata": {},
   "source": [
    "Email or copy the exported `environment.yml` file to the other person"
   ]
  },
  {
   "cell_type": "markdown",
   "id": "active-night",
   "metadata": {},
   "source": [
    "### Addional tip\n",
    "\n",
    "If you are going to be working in more advanced Python developments it's always recomended to use `pip` instead, even inside a `conda` environment.\n",
    "\n",
    "For instance, **Heroku** currently doesn't work with `pip` > 20.0.2"
   ]
  },
  {
   "cell_type": "code",
   "execution_count": null,
   "id": "restricted-universe",
   "metadata": {},
   "outputs": [],
   "source": [
    "pip install pip==20.0.2"
   ]
  },
  {
   "cell_type": "markdown",
   "id": "floppy-adoption",
   "metadata": {},
   "source": [
    "`pip` allows you to export your libraries from a venv using `freeze`"
   ]
  },
  {
   "cell_type": "code",
   "execution_count": null,
   "id": "impaired-september",
   "metadata": {},
   "outputs": [],
   "source": [
    "pip freeze > requirements.txt"
   ]
  },
  {
   "cell_type": "markdown",
   "id": "single-uzbekistan",
   "metadata": {},
   "source": [
    "Then your colleague can install all requirements by using"
   ]
  },
  {
   "cell_type": "code",
   "execution_count": null,
   "id": "foster-point",
   "metadata": {},
   "outputs": [],
   "source": [
    "pip install -r requirements.txt"
   ]
  }
 ],
 "metadata": {
  "kernelspec": {
   "display_name": "Python 3",
   "language": "python",
   "name": "python3"
  },
  "language_info": {
   "codemirror_mode": {
    "name": "ipython",
    "version": 3
   },
   "file_extension": ".py",
   "mimetype": "text/x-python",
   "name": "python",
   "nbconvert_exporter": "python",
   "pygments_lexer": "ipython3",
   "version": "3.8.10"
  }
 },
 "nbformat": 4,
 "nbformat_minor": 5
}
