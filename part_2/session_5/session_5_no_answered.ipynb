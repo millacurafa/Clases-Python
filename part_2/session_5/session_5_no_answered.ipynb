{
 "cells": [
  {
   "cell_type": "markdown",
   "metadata": {},
   "source": [
    "# Practising with Python\n",
    "\n",
    "**Author:** 'Felipe Millacura'\n",
    "\n",
    "**Date:** '10th January 2021'\n",
    "\n",
    "## Learning Objectives\n",
    "\n",
    "* Practice with the `pandas` and `numpy` libraries \n",
    "* Be able to do basic data manipulation and work with  NAs"
   ]
  },
  {
   "cell_type": "markdown",
   "metadata": {},
   "source": [
    "\n",
    "* Load in the dataset `starbucks_drinkMenu_expanded.csv`, calling it `drinks_content`, and then briefly explore it, printing out: the first 5 rows, last 5 rows, and then all the data. Find out the dimensions of the data (number of rows and columns) and the column names."
   ]
  },
  {
   "cell_type": "code",
   "execution_count": null,
   "metadata": {},
   "outputs": [],
   "source": []
  },
  {
   "cell_type": "markdown",
   "metadata": {},
   "source": [
    "* We're going to be looking at the number of `Calories` in each drink.\n",
    "Calculate some quick summary statistics to check the mean, the variance, and the normality of this variable (i.e. plot a histogram)."
   ]
  },
  {
   "cell_type": "code",
   "execution_count": null,
   "metadata": {},
   "outputs": [],
   "source": []
  },
  {
   "cell_type": "markdown",
   "metadata": {},
   "source": [
    "* Check if you have any outliers in the `Calories` variable by creating a boxplot. (There is no need to change or remove any outliers you find)"
   ]
  },
  {
   "cell_type": "code",
   "execution_count": null,
   "metadata": {},
   "outputs": [],
   "source": []
  },
  {
   "cell_type": "markdown",
   "metadata": {},
   "source": [
    "* Select the variables `Beverage_category`, `Beverage`, `Beverage prep` and `Calories` from the `drinks_content` data frame, and assign the selected columns to a new data frame called `drinks`. Check if there are any `NaN` values anywhere in the data, and drop any rows containing them."
   ]
  },
  {
   "cell_type": "code",
   "execution_count": null,
   "metadata": {},
   "outputs": [],
   "source": []
  },
  {
   "cell_type": "markdown",
   "metadata": {},
   "source": [
    "* Filter the data so we only take \"Classic Espresso Drinks\", and save this in a new data frame called `espresso_drinks`."
   ]
  },
  {
   "cell_type": "code",
   "execution_count": null,
   "metadata": {},
   "outputs": [],
   "source": []
  },
  {
   "cell_type": "markdown",
   "metadata": {},
   "source": [
    "* Group your `espresso_drinks` data frame by the type of beverage prep, and then find out the mean calories for each drink group."
   ]
  },
  {
   "cell_type": "code",
   "execution_count": null,
   "metadata": {},
   "outputs": [],
   "source": []
  },
  {
   "cell_type": "markdown",
   "metadata": {},
   "source": [
    "* Get the same grouped mean `Calories` values as above, but this time sorted in descending order.\n"
   ]
  },
  {
   "cell_type": "code",
   "execution_count": null,
   "metadata": {},
   "outputs": [],
   "source": []
  },
  {
   "cell_type": "markdown",
   "metadata": {},
   "source": [
    "# Analysis tasks\n",
    "\n",
    "In the following analysis tasks, we are going to use a data set on incidences of forest fires in the north east of Portugal. You can find a description of the dataset [here](https://archive.ics.uci.edu/ml/datasets/forest+fires).\n",
    "\n",
    "## Read data\n",
    "\n",
    "* Import the `pandas` and `numpy` packages."
   ]
  },
  {
   "cell_type": "code",
   "execution_count": null,
   "metadata": {},
   "outputs": [],
   "source": []
  },
  {
   "cell_type": "markdown",
   "metadata": {},
   "source": [
    "* Now read the file `forestfires.csv` and look at the first few rows."
   ]
  },
  {
   "cell_type": "code",
   "execution_count": null,
   "metadata": {},
   "outputs": [],
   "source": []
  },
  {
   "cell_type": "markdown",
   "metadata": {},
   "source": [
    "* Have a look at the methods available on a `pandas` dataframe. \n",
    "  - We've already seen `describe()`, so run that on the dataframe you loaded above. \n",
    "  - Run another method providing general information on the stored data. "
   ]
  },
  {
   "cell_type": "code",
   "execution_count": null,
   "metadata": {},
   "outputs": [],
   "source": []
  },
  {
   "cell_type": "markdown",
   "metadata": {},
   "source": [
    "## Missing data\n",
    "\n",
    "* Which variables having missing data in this data frame?\n",
    "  - Replace all the missing values in `area` with 0\n",
    "  - Remove the rows that have missing values in other columns"
   ]
  },
  {
   "cell_type": "code",
   "execution_count": null,
   "metadata": {},
   "outputs": [],
   "source": []
  },
  {
   "cell_type": "markdown",
   "metadata": {},
   "source": [
    "## Using the \"Verbs\"\n",
    "\n",
    "### Select\n",
    "\n",
    "* Change your data frame so that columns `X` and `Y` are dropped."
   ]
  },
  {
   "cell_type": "code",
   "execution_count": null,
   "metadata": {},
   "outputs": [],
   "source": []
  },
  {
   "cell_type": "markdown",
   "metadata": {},
   "source": [
    "### Arrange\n",
    "\n",
    "* Change your data frame so that it is arranged by `area`, so that the highest `area` fires are first"
   ]
  },
  {
   "cell_type": "code",
   "execution_count": null,
   "metadata": {},
   "outputs": [],
   "source": []
  },
  {
   "cell_type": "markdown",
   "metadata": {},
   "source": [
    "\n",
    "### Filter\n",
    "\n",
    "* Change your data frame so that it contains no rows where `area` is zero."
   ]
  },
  {
   "cell_type": "code",
   "execution_count": null,
   "metadata": {},
   "outputs": [],
   "source": []
  },
  {
   "cell_type": "markdown",
   "metadata": {},
   "source": [
    "### Mutate\n",
    "\n",
    "* Create a new column `is_rain`, which is equal to `True` whenever `rain` is greater than zero and `False` otherwise."
   ]
  },
  {
   "cell_type": "code",
   "execution_count": null,
   "metadata": {},
   "outputs": [],
   "source": []
  },
  {
   "cell_type": "markdown",
   "metadata": {},
   "source": [
    "### Group by and summarise\n",
    "\n",
    "* Find the average `area` of fire:\n",
    "  - In each `month` of the year\n",
    "  - In each `day` of the week\n",
    "  - When there is rain, and when there isn't rain"
   ]
  },
  {
   "cell_type": "code",
   "execution_count": null,
   "metadata": {},
   "outputs": [],
   "source": []
  },
  {
   "cell_type": "markdown",
   "metadata": {},
   "source": [
    "## Plotting\n",
    "\n",
    "* Use `matplotlib` to create a histogram of `area`\n",
    "* Use `seaborn` to create a histogram of `area`\n",
    "* Use seaborn to create a scatter plot of `temp` vs. `area`"
   ]
  },
  {
   "cell_type": "code",
   "execution_count": null,
   "metadata": {},
   "outputs": [],
   "source": []
  },
  {
   "cell_type": "markdown",
   "metadata": {},
   "source": [
    "# Python Machine Learning - Homework\n",
    "\n",
    "Use the forest fire data to build a linear regression model to predict the size of a forest fire. No need to explore the data first, since you did that already!\n",
    "\n",
    "**Hint:** you are going to need to use `scikit-learn` you can check the documentation [here](https://scikit-learn.org/stable/modules/linear_model.html)\n",
    "\n",
    "```python\n",
    "from sklearn.linear_model import LinearRegression\n",
    "from sklearn.model_selection import train_test_split\n",
    "```\n",
    "\n",
    "**Hint 2:** Careful with NAs! you can transform categorical variables by using `pd.get_dummies()`. Check the documentation [here](https://pandas.pydata.org/pandas-docs/stable/reference/api/pandas.get_dummies.html)\n",
    "\n",
    "**HInt 3:** For any machine learning algorithm you need to split your data. You can use `train_test_split` for that. Check it out! [click me!](https://scikit-learn.org/stable/modules/generated/sklearn.model_selection.train_test_split.html)"
   ]
  },
  {
   "cell_type": "code",
   "execution_count": null,
   "metadata": {},
   "outputs": [],
   "source": []
  }
 ],
 "metadata": {
  "kernelspec": {
   "display_name": "Python 3",
   "language": "python",
   "name": "python3"
  },
  "language_info": {
   "codemirror_mode": {
    "name": "ipython",
    "version": 3
   },
   "file_extension": ".py",
   "mimetype": "text/x-python",
   "name": "python",
   "nbconvert_exporter": "python",
   "pygments_lexer": "ipython3",
   "version": "3.8.5"
  }
 },
 "nbformat": 4,
 "nbformat_minor": 4
}
