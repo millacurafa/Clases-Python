{
 "cells": [
  {
   "cell_type": "markdown",
   "metadata": {},
   "source": [
    "# Control flow and loops\n",
    "\n",
    "**Author:** 'Felipe Millacura'\n",
    "\n",
    "**Date:** '17th December 2020'\n",
    "\n",
    "## Learning Objectives\n",
    "\n",
    "* Be able to use Jupyter notebooks\n",
    "* Get exposed to the basics of Python\n",
    "* Understand the differences between Python and other programming languages\n",
    "* Be able to use Python packages"
   ]
  },
  {
   "cell_type": "markdown",
   "metadata": {},
   "source": [
    "## Control flow\n",
    "\n",
    "When using control flow in Python, it's important to understand one of the biggest differences between Python and other programming languages: Python is _indentation sensitive_. This simply means that white space matters - that's what Python uses to structure code and to indicate the end of code blocks. Some other uses curly brackets for the same purpose.\n",
    "\n",
    "You also have to indicate the end of an expression with a colon `:`."
   ]
  },
  {
   "cell_type": "code",
   "execution_count": 15,
   "metadata": {},
   "outputs": [],
   "source": [
    "temperature = 80\n",
    "if temperature < 4:\n",
    "    print(\"Freezing warning!\")"
   ]
  },
  {
   "cell_type": "markdown",
   "metadata": {},
   "source": [
    "Note how Python uses indentation to denote a code block.\n",
    "\n",
    "You can structure an if-else statement in Python via the `if`, `elif` and `else` statements:"
   ]
  },
  {
   "cell_type": "code",
   "execution_count": 18,
   "metadata": {},
   "outputs": [
    {
     "name": "stdout",
     "output_type": "stream",
     "text": [
      "Perfect\n"
     ]
    }
   ],
   "source": [
    "temperature = 25\n",
    "\n",
    "if temperature > 28:\n",
    "    print(\"Heatwave warning!\")\n",
    "elif temperature < 15:\n",
    "    print(\"It's getting cold!\")\n",
    "else:\n",
    "    print(\"Perfect\")"
   ]
  },
  {
   "cell_type": "markdown",
   "metadata": {},
   "source": [
    "Just for interest, let's see the error Python produces if we mis-indent code"
   ]
  },
  {
   "cell_type": "code",
   "execution_count": 20,
   "metadata": {},
   "outputs": [
    {
     "name": "stdout",
     "output_type": "stream",
     "text": [
      "Double jinx!\n"
     ]
    }
   ],
   "source": [
    "phrase = \"Jinx\"\n",
    "\n",
    "if phrase == \"Jinx\":\n",
    "    print(\"Double jinx!\")"
   ]
  },
  {
   "cell_type": "markdown",
   "metadata": {},
   "source": [
    "We see `Error: expected an indented block`. You can expect to see this quite often if you work in Python!"
   ]
  },
  {
   "cell_type": "markdown",
   "metadata": {},
   "source": [
    "## Loops\n",
    "\n",
    "Looping through a list is easy and straightforward:"
   ]
  },
  {
   "cell_type": "code",
   "execution_count": 22,
   "metadata": {},
   "outputs": [
    {
     "name": "stdout",
     "output_type": "stream",
     "text": [
      "2\n",
      "4\n",
      "6\n",
      "8\n"
     ]
    }
   ],
   "source": [
    "list2 = [1, 2, 3, 4]\n",
    "\n",
    "for each_element in list2:\n",
    "    print(each_element * 2)"
   ]
  },
  {
   "cell_type": "markdown",
   "metadata": {},
   "source": [
    "You can also get the values out from a dict and loop through that if necessary:"
   ]
  },
  {
   "cell_type": "code",
   "execution_count": 28,
   "metadata": {},
   "outputs": [
    {
     "name": "stdout",
     "output_type": "stream",
     "text": [
      "('name', 'Felipe')\n",
      "('age', 30)\n",
      "('languages', ['Spanish', 'English'])\n"
     ]
    }
   ],
   "source": [
    "person = {\n",
    "    \"name\": \"Felipe\",\n",
    "    \"age\": 30,\n",
    "    \"languages\": [\"Spanish\", \"English\"]\n",
    "}\n",
    "\n",
    "for i in person.items():\n",
    "    print(i)"
   ]
  },
  {
   "cell_type": "markdown",
   "metadata": {},
   "source": [
    "<blockquote>\n",
    "<b>Task - 10 minutes</b>\n",
    "\n",
    "Write a program that prints the numbers from 1 to 100. But for multiples of three print \"Fizz\" instead of the number, and for multiples of five print \"Buzz\". For numbers which are multiples of both three and five print \"FizzBuzz\".\n",
    "\n",
    "Try your code out on numbers in the `range()` from 1 to 101\n",
    "\n",
    "<br>\n",
    "\n",
    "<details>\n",
    "<summary><b>Solution</b></summary>\n",
    "\n",
    "```python\n",
    "numbers = range(1, 101)\n",
    "for number in numbers:\n",
    "  if number % 3 == 0 and number % 5 == 0:\n",
    "    print(\"FizzBuzz\")\n",
    "  elif number % 3 == 0:\n",
    "    print(\"Fizz\")\n",
    "  elif number % 5 == 0:\n",
    "    print(\"Buzz\")\n",
    "  else:\n",
    "    print(number)\n",
    "```\n",
    "</summary>\n",
    "</blockquote>"
   ]
  },
  {
   "cell_type": "code",
   "execution_count": 29,
   "metadata": {},
   "outputs": [
    {
     "name": "stdout",
     "output_type": "stream",
     "text": [
      "1\n",
      "2\n",
      "Fizz\n",
      "4\n",
      "Buzz\n",
      "Fizz\n",
      "7\n",
      "8\n",
      "Fizz\n",
      "Buzz\n",
      "11\n",
      "Fizz\n",
      "13\n",
      "14\n",
      "FizzBuzz\n",
      "16\n",
      "17\n",
      "Fizz\n",
      "19\n",
      "Buzz\n",
      "Fizz\n",
      "22\n",
      "23\n",
      "Fizz\n",
      "Buzz\n",
      "26\n",
      "Fizz\n",
      "28\n",
      "29\n",
      "FizzBuzz\n",
      "31\n",
      "32\n",
      "Fizz\n",
      "34\n",
      "Buzz\n",
      "Fizz\n",
      "37\n",
      "38\n",
      "Fizz\n",
      "Buzz\n",
      "41\n",
      "Fizz\n",
      "43\n",
      "44\n",
      "FizzBuzz\n",
      "46\n",
      "47\n",
      "Fizz\n",
      "49\n",
      "Buzz\n",
      "Fizz\n",
      "52\n",
      "53\n",
      "Fizz\n",
      "Buzz\n",
      "56\n",
      "Fizz\n",
      "58\n",
      "59\n",
      "FizzBuzz\n",
      "61\n",
      "62\n",
      "Fizz\n",
      "64\n",
      "Buzz\n",
      "Fizz\n",
      "67\n",
      "68\n",
      "Fizz\n",
      "Buzz\n",
      "71\n",
      "Fizz\n",
      "73\n",
      "74\n",
      "FizzBuzz\n",
      "76\n",
      "77\n",
      "Fizz\n",
      "79\n",
      "Buzz\n",
      "Fizz\n",
      "82\n",
      "83\n",
      "Fizz\n",
      "Buzz\n",
      "86\n",
      "Fizz\n",
      "88\n",
      "89\n",
      "FizzBuzz\n",
      "91\n",
      "92\n",
      "Fizz\n",
      "94\n",
      "Buzz\n",
      "Fizz\n",
      "97\n",
      "98\n",
      "Fizz\n",
      "Buzz\n"
     ]
    }
   ],
   "source": [
    "numbers = range(1, 101)\n",
    "\n",
    "for number in numbers:\n",
    "  if number % 3 == 0 and number % 5 == 0:\n",
    "    print(\"FizzBuzz\")\n",
    "  elif number % 3 == 0:\n",
    "    print(\"Fizz\")\n",
    "  elif number % 5 == 0:\n",
    "    print(\"Buzz\")\n",
    "  else:\n",
    "    print(number)"
   ]
  },
  {
   "cell_type": "markdown",
   "metadata": {},
   "source": [
    "## List comprehensions\n",
    "\n",
    "Quite often we would like to create new lists based upon some modification of the elements in another list. This can be done in multiple ways, but one that's very relevant to loops is a **list comprehension**.\n",
    "\n",
    "By default, creating a new list with modified elements would look like this:"
   ]
  },
  {
   "cell_type": "code",
   "execution_count": 30,
   "metadata": {},
   "outputs": [
    {
     "data": {
      "text/plain": [
       "[1, 4, 9, 16]"
      ]
     },
     "execution_count": 30,
     "metadata": {},
     "output_type": "execute_result"
    }
   ],
   "source": [
    "numbers = [1, 2, 3, 4]\n",
    "\n",
    "numbers_squared = []\n",
    "\n",
    "for number in numbers:\n",
    "    numbers_squared.append(number * number)\n",
    "\n",
    "numbers_squared"
   ]
  },
  {
   "cell_type": "markdown",
   "metadata": {},
   "source": [
    "You can see this is a bit long-winded. However, there is a very easy way to replicate this with less code:\n",
    "\n",
    "```\n",
    "[expression for item in list]\n",
    "```"
   ]
  },
  {
   "cell_type": "code",
   "execution_count": 34,
   "metadata": {},
   "outputs": [
    {
     "data": {
      "text/plain": [
       "[1, 4, 9, 16]"
      ]
     },
     "execution_count": 34,
     "metadata": {},
     "output_type": "execute_result"
    }
   ],
   "source": [
    "numbers = [1, 2, 3, 4]\n",
    "\n",
    "numbers_squared = [number*number for number in numbers]\n",
    "\n",
    "numbers_squared"
   ]
  },
  {
   "cell_type": "markdown",
   "metadata": {},
   "source": [
    "List comprehensions will always return a new list with the modified elements. They are particularly useful when you would normally write a loop which adds elements into a list.\n",
    "\n",
    "Below is a loop that creates a list of numbers which are divisible by 12 using an `if` statement.\n"
   ]
  },
  {
   "cell_type": "code",
   "execution_count": 35,
   "metadata": {},
   "outputs": [
    {
     "data": {
      "text/plain": [
       "[0, 12, 24, 36, 48, 60, 72, 84, 96]"
      ]
     },
     "execution_count": 35,
     "metadata": {},
     "output_type": "execute_result"
    }
   ],
   "source": [
    "multiples_of_12 = []\n",
    "\n",
    "for number in range(101):\n",
    "    if number % 12 == 0:\n",
    "        multiples_of_12.append(number)\n",
    "        \n",
    "multiples_of_12"
   ]
  },
  {
   "cell_type": "markdown",
   "metadata": {},
   "source": [
    "If you want to use an if-statement inside a list comprehension, it comes after the loop part.\n"
   ]
  },
  {
   "cell_type": "code",
   "execution_count": 38,
   "metadata": {},
   "outputs": [
    {
     "data": {
      "text/plain": [
       "[0, 169, 676, 1521, 2704, 4225, 6084, 8281]"
      ]
     },
     "execution_count": 38,
     "metadata": {},
     "output_type": "execute_result"
    }
   ],
   "source": [
    "[number*number for number in range(101) if number % 13 == 0]"
   ]
  },
  {
   "cell_type": "markdown",
   "metadata": {},
   "source": [
    "Very similarly, you can also use dict comprehensions, where looping through a list will create a dict of your choosing.\n",
    "\n",
    "```\n",
    "{key:value for value in values}\n",
    "```\n",
    "For example:"
   ]
  },
  {
   "cell_type": "code",
   "execution_count": 39,
   "metadata": {},
   "outputs": [
    {
     "data": {
      "text/plain": [
       "{'apple': 5, 'orange': 6, 'dragon fruit': 12}"
      ]
     },
     "execution_count": 39,
     "metadata": {},
     "output_type": "execute_result"
    }
   ],
   "source": [
    "words = [\"apple\", \"orange\", \"dragon fruit\"]\n",
    "\n",
    "length_of_words = {word:len(word) for word in words}\n",
    "\n",
    "length_of_words"
   ]
  },
  {
   "cell_type": "markdown",
   "metadata": {},
   "source": [
    "<blockquote>\n",
    "<b>Task - 5 minutes</b>\n",
    "\n",
    "Write the following loops as list comprehensions.\n",
    "\n",
    "1. ```python\n",
    "    primes = []\n",
    "    for i in range(2, 100):\n",
    "        if i % 2 != 0 and i % 3 != 0 and i % 5 != 0 and i % 7 !=0 and i % 11 != 0:\n",
    "        primes.append(i)\n",
    "```\n",
    "\n",
    "2. ```python\n",
    "ordinal_dict = {}\n",
    "    for number in range(4, 11):\n",
    "        ordinal_dict[number] = str(number) + 'th'\n",
    "```\n",
    "\n",
    "<details>\n",
    "<summary><b>Solution</b></summary>\n",
    "\n",
    "1. ```python\n",
    "    [i for i in range(2, 100) if i % 2 != 0 and i % 3 != 0 and i % 5 != 0 and i % 7 !=0 and i % 11 != 0]\n",
    "    ```\n",
    "\n",
    "2. ```python\n",
    "    {i:str(i) + 'th' for i in range(4, 11)}\n",
    "    ```\n",
    "\n",
    "</summary>\n",
    "</blockquote>"
   ]
  },
  {
   "cell_type": "code",
   "execution_count": 41,
   "metadata": {},
   "outputs": [
    {
     "data": {
      "text/plain": [
       "{4: '4th', 5: '5th', 6: '6th', 7: '7th', 8: '8th', 9: '9th', 10: '10th'}"
      ]
     },
     "execution_count": 41,
     "metadata": {},
     "output_type": "execute_result"
    }
   ],
   "source": [
    "[i for i in range(2, 100) if i % 2 != 0 and i % 3 != 0 and i % 5 != 0 and i % 7 !=0 and i % 11 != 0]\n",
    "\n",
    "{i:str(i) + 'th' for i in range(4, 11)}\n",
    "\n"
   ]
  },
  {
   "cell_type": "code",
   "execution_count": 60,
   "metadata": {},
   "outputs": [
    {
     "name": "stdout",
     "output_type": "stream",
     "text": [
      "{4: '4th', 5: '5th', 6: '6th', 7: '7th', 8: '8th', 9: '9th', 10: '10th'}\n"
     ]
    }
   ],
   "source": [
    "ordinal_dict = {}\n",
    "for number in range(4, 11):\n",
    "     ordinal_dict[number] = str(number) + 'th'\n",
    "print(ordinal_dict)"
   ]
  },
  {
   "cell_type": "code",
   "execution_count": 61,
   "metadata": {},
   "outputs": [
    {
     "data": {
      "text/plain": [
       "{4: '4th', 5: '5th', 6: '6th', 7: '7th', 8: '8th', 9: '9th', 10: '10th'}"
      ]
     },
     "execution_count": 61,
     "metadata": {},
     "output_type": "execute_result"
    }
   ],
   "source": [
    "{i:str(i) + 'th' for i in range(4, 11)}"
   ]
  },
  {
   "cell_type": "markdown",
   "metadata": {},
   "source": [
    "## Writing custom functions\n",
    "\n",
    "Writing a function in Python is fairly similar to the process in other programming languages. After defining it, you have to call the function by using brackets after the function's name:\n"
   ]
  },
  {
   "cell_type": "code",
   "execution_count": 45,
   "metadata": {},
   "outputs": [
    {
     "data": {
      "text/plain": [
       "1.5"
      ]
     },
     "execution_count": 45,
     "metadata": {},
     "output_type": "execute_result"
    }
   ],
   "source": [
    "def trial(number_1, number_2):\n",
    "    sum = number_1 + number_2\n",
    "    return sum / 2\n",
    "\n",
    "trial(1, 2)"
   ]
  },
  {
   "cell_type": "markdown",
   "metadata": {},
   "source": [
    "Note the use of the `def` keyword to *define* the function, and the reappearance again of indentation to mark out the code that is in the function body. You can think of functions as a small automated factory that takes in raw materials, produces something following a specific set of instructions, then at the end of an assembly line, it gives it to you, ready to use.\n",
    "\n",
    "The `return` keyword is very important! There is no implicit return in Python: if you don't specifically state what a function should return with this keyword, it will return a `None` value, and Jupyter will not display anything! You can have more than one `return` statement in a function, but after the first `return` is hit, the execution of the rest of the function will stop.\n",
    "\n",
    "You can use and reuse functions within functions:"
   ]
  },
  {
   "cell_type": "code",
   "execution_count": 48,
   "metadata": {},
   "outputs": [
    {
     "data": {
      "text/plain": [
       "2"
      ]
     },
     "execution_count": 48,
     "metadata": {},
     "output_type": "execute_result"
    }
   ],
   "source": [
    "def is_even(number):\n",
    "    if(number % 2 == 0):\n",
    "        return True\n",
    "    else:\n",
    "        return False\n",
    "\n",
    "def sum_of_even_numbers(numbers):\n",
    "    running_total = 0\n",
    "    for number in numbers:\n",
    "        if(is_even(number)):\n",
    "            running_total += number\n",
    "    return running_total\n",
    "\n",
    "sum_of_even_numbers(range(3))"
   ]
  },
  {
   "cell_type": "markdown",
   "metadata": {},
   "source": [
    "\n",
    "In Python, we can pass in anonymous functions to be executed by simply using the name of the function to execute at any given time:"
   ]
  },
  {
   "cell_type": "code",
   "execution_count": 53,
   "metadata": {},
   "outputs": [
    {
     "data": {
      "text/plain": [
       "'44'"
      ]
     },
     "execution_count": 53,
     "metadata": {},
     "output_type": "execute_result"
    }
   ],
   "source": [
    "def square(number):\n",
    "    return number + number\n",
    "\n",
    "def modify_number(number, modifier_function):\n",
    "    return modifier_function(number)\n",
    "\n",
    "modify_number('4', square)"
   ]
  },
  {
   "cell_type": "markdown",
   "metadata": {},
   "source": [
    "<blockquote>\n",
    "\n",
    "<b>Task - 5 minutes</b>\n",
    "\n",
    "Write a function that takes as input a whole number $n$, and returns the $n$-th triangle number. Try out your function a few times to test that it works.\n",
    "\n",
    "You can calculate the the $n$-th triangle number with the formula\n",
    "\n",
    "$$\n",
    "T_n = \\frac{n(n + 1)}{2}\n",
    "$$\n",
    "\n",
    "So the 5th triangle number is\n",
    "\n",
    "$$\n",
    "\\frac{5 \\times (5 + 1)}{2} = 15\n",
    "$$\n",
    "<details>\n",
    "<summary><b>Solution</b></summary>\n",
    "\n",
    "```python\n",
    "def get_triangle_number(n):\n",
    "  return n * (n + 1) / 2\n",
    "```\n",
    "\n",
    "```python\n",
    "# Testing it works\n",
    "get_triangle_number(5)\n",
    "get_triangle_number(6)\n",
    "```\n",
    "\n",
    "</details>\n",
    "</blockquote>"
   ]
  },
  {
   "cell_type": "code",
   "execution_count": 56,
   "metadata": {},
   "outputs": [
    {
     "data": {
      "text/plain": [
       "3916.0"
      ]
     },
     "execution_count": 56,
     "metadata": {},
     "output_type": "execute_result"
    }
   ],
   "source": [
    "def get_triangle_number(n):\n",
    "  return n * (n + 1) / 2\n",
    "\n",
    "# Testing it works\n",
    "get_triangle_number(88)\n"
   ]
  },
  {
   "cell_type": "markdown",
   "metadata": {},
   "source": [
    "<blockquote class = 'task'>\n",
    "\n",
    "<b>Task - 5 minutes</b>\n",
    "\n",
    "Write a function `make_price()` that takes as input any whole number, and returns it written as a price (i.e. with a \\\\$CLP in front of the number). For example 5 would become \\\\$CLP 5, and 123 would become \\\\$CLP 123. Try out your function a few times to test that it works.\n",
    "    \n",
    "<br>\n",
    "    \n",
    "<details>\n",
    "<summary><b>Hint 1</b></summary>\n",
    "In an earlier example you saw that you can join Python strings using the `+` operator. i.e.\n",
    "    \n",
    "```python\n",
    "'yes' + 'no'\n",
    "```\n",
    "</details>\n",
    "<br>\n",
    "<details>\n",
    "<summary><b>Hint 2</b></summary>\n",
    "You'll need to convert the number into a string before you join it, using the function `str()`. \n",
    "</details>\n",
    "<br>\n",
    "<details>\n",
    "\n",
    "<summary><b>Solution</b></summary>\n",
    "\n",
    "```python\n",
    "def make_price(number):\n",
    "  return '$CLP' + str(number)\n",
    "\n",
    "make_price(5)\n",
    "make_price(123)\n",
    "```\n",
    "</details>\n",
    "</blockquote>\n"
   ]
  },
  {
   "cell_type": "code",
   "execution_count": 58,
   "metadata": {},
   "outputs": [
    {
     "data": {
      "text/plain": [
       "'$CLP 50000'"
      ]
     },
     "execution_count": 58,
     "metadata": {},
     "output_type": "execute_result"
    }
   ],
   "source": [
    "def make_price(number):\n",
    "  return '$CLP' + ' ' + str(number)\n",
    "\n",
    "make_price(50000)\n"
   ]
  },
  {
   "cell_type": "code",
   "execution_count": null,
   "metadata": {},
   "outputs": [],
   "source": [
    "def make_price(number):\n",
    "    return \"$CLP {}\".format(number)\n",
    "make_price(3)"
   ]
  },
  {
   "cell_type": "markdown",
   "metadata": {},
   "source": [
    "## Extra - A very brief introduction to object-oriented programming\n",
    "\n",
    "As we mentioned earlier, Python is an object-oriented programming (OOP) language. \n",
    "\n",
    "So, here is the philosophy of OOP in a nutshell. We model things of interest as **objects**, which typically inherit properties from an overarching **class**. Think of objects as the concrete realisations of a class, which can in turn be thought of as prototypes or idealisations. So, previously, the `fido` and `rex` objects were concrete realisations of the overarching `Dog` class.\n",
    "\n",
    "Objects have **attributes** (data that's held by each object) and **behaviours** (these are the 'methods' we've talked about before). So, in the case of our dog object `fido`, it could contain attributes `name = \"Fido\"`, `age = 4` and `coat = \"Brown\"` and behaviours `bark()`, `chase_ball()` and `eat(food)`\n",
    "\n",
    "The `Dog` class meanwhile just sets up the attributes and behaviours each dog will possess. For example, it will insist that a `Dog` has `name`, `age` and `coat` attributes and will also usually set up the behaviours (methods) shared by all dogs, in this case `bark()`, `chase_ball()`, `eat(food)`\n",
    "\n",
    "So far, so abstract: let's see some of this in Python!\n"
   ]
  },
  {
   "cell_type": "code",
   "execution_count": 20,
   "metadata": {},
   "outputs": [
    {
     "name": "stdout",
     "output_type": "stream",
     "text": [
      "Fido barks!\n",
      "Fido chases the ball!\n",
      "Fido eats dog biscuits!\n"
     ]
    }
   ],
   "source": [
    "class Dog:\n",
    "\n",
    "  def __init__(self, name, age, coat):\n",
    "    self.name = name\n",
    "    self.age = age\n",
    "    self.coat = coat\n",
    "    \n",
    "  def bark(self):\n",
    "    print(self.name + \" barks!\")\n",
    "    \n",
    "  def chase_ball(self):\n",
    "      if self.age < 10:\n",
    "          print(self.name + \" chases the ball!\")\n",
    "      else:\n",
    "          print(self.name + \" sits and stares at you accusingly...\")\n",
    "\n",
    "  def eat(self, food):\n",
    "   print(self.name + \" eats \" + food + \"!\")\n",
    "    \n",
    "fido = Dog(\"Fido\", 4, \"brown\")\n",
    "fido.bark()\n",
    "fido.chase_ball()\n",
    "fido.eat(\"dog biscuits\")"
   ]
  },
  {
   "cell_type": "markdown",
   "metadata": {},
   "source": [
    "Let's describe the code above\n",
    "\n",
    "* first `class Dog:` tells Python that we are defining a `Dog` class\n",
    "* we have a weird method `__init__()`. This is called an **initialiser** (or **constructor** in other OOP languages): it takes in a set of attributes and returns a `Dog` object with those attributes.\n",
    "* the attributes are all stored as `self.<something>`. The `self` keyword is special, it tells Python to store data within an object as an attribute.\n",
    "* at the end we create the three methods `bark()`, `chase_ball()` and `eat(food)`. We need to pass `self` into each of these methods, this is just a peculiarity of Python.\n"
   ]
  },
  {
   "cell_type": "markdown",
   "metadata": {},
   "source": [
    "<blockquote>\n",
    "<b>Task - 10 mins</b>\n",
    "\n",
    "* Create a new `Dog` object `rex` with your own choice of attributes, and try out the methods of `rex`\n",
    "* Create a new method `decribe()` in the `Dog` class that prints something like \"Fido is 4 years old and has a brown coat.\", then try it out for both `fido` and `rex`! (You will need to rerun the lines of code that create `fido` and `rex` for this to work).\n",
    "\n",
    "<details>\n",
    "<summary><b>Solution</b></summary>\n",
    "\n",
    "```python\n",
    "rex = Dog(\"Rex\", 10, \"black\")\n",
    "rex.bark()\n",
    "rex.chase_ball()\n",
    "rex.eat(\"stolen ice cream\")\n",
    "```\n",
    "\n",
    "Add this to class `Dog`\n",
    "\n",
    "```python\n",
    "def describe(self):\n",
    "  phrase = self.name + \" is \" + self.age + \" years old and has a \" + self.coat + \" coat.\"\n",
    "  print(phrase)\n",
    "```\n",
    "\n",
    "</details>\n",
    "</blockquote>"
   ]
  },
  {
   "cell_type": "markdown",
   "metadata": {},
   "source": [
    "Now let's see a slightly more useful example. We're going to create a `DataHolder` class that will hold a list of numbers and, on demand, return a **normalised** list (this just means a list where the squares of the elements sum to 1). So, the attributes will be `self.data` and `self.norm`, which will be calculated from the input data, and the method will be `get_normalised()`.\n"
   ]
  },
  {
   "cell_type": "code",
   "execution_count": 21,
   "metadata": {},
   "outputs": [],
   "source": [
    "import numpy as np\n",
    "\n",
    "class DataHolder:\n",
    "\n",
    "  def __init__(self, data):\n",
    "    self.data = np.array(data)\n",
    "    # self.norm is not passed in here, it is calculated from the input data\n",
    "    self.norm = np.sqrt(np.sum(self.data ** 2))\n",
    "    \n",
    "  def get_normalised(self):\n",
    "    return list(self.data / self.norm)"
   ]
  },
  {
   "cell_type": "markdown",
   "metadata": {},
   "source": [
    "Don't worry too much about this `numpy` and `np` code at the moment, we'll cover it in the next lesson, it's just a set of mathematical functions.\n",
    "\n",
    "Now let's create a `DataHolder` object, holding the data we are particularly interested in, and check that it then holds the data.\n"
   ]
  },
  {
   "cell_type": "code",
   "execution_count": 22,
   "metadata": {},
   "outputs": [
    {
     "data": {
      "text/plain": [
       "array([3, 4, 5])"
      ]
     },
     "execution_count": 22,
     "metadata": {},
     "output_type": "execute_result"
    }
   ],
   "source": [
    "data_holder = DataHolder([3, 4, 5])\n",
    "data_holder.data"
   ]
  },
  {
   "cell_type": "markdown",
   "metadata": {},
   "source": [
    "Now we use the method we created to normalise the data. Hopefully, when we square and sum the elements of the normalised list, we should find they add to 1.\n"
   ]
  },
  {
   "cell_type": "code",
   "execution_count": 23,
   "metadata": {},
   "outputs": [
    {
     "data": {
      "text/plain": [
       "0.9999999999999999"
      ]
     },
     "execution_count": 23,
     "metadata": {},
     "output_type": "execute_result"
    }
   ],
   "source": [
    "result = data_holder.get_normalised()\n",
    "result\n",
    "result[0]**2 + result[1]**2 + result[2]**2"
   ]
  },
  {
   "cell_type": "markdown",
   "metadata": {},
   "source": [
    "\n",
    "Close enough! ;)"
   ]
  },
  {
   "cell_type": "markdown",
   "metadata": {},
   "source": [
    "Pattern | Example | Meaning\n",
    "---|---|---\n",
    "Single Leading Underscore |\t_var |\tNaming convention indicating a name is meant for internal use. Generally not enforced by the Python interpreter (except in wildcard imports) and meant as a hint to the programmer only.\n",
    "Single Trailing Underscore |\tvar_ |\tUsed by convention to avoid naming conflicts with Python keywords.\n",
    "Double Leading Underscore |\t\\__var |\tTriggers name mangling when used in a class context. Enforced by the Python interpreter.\n",
    "Double Leading and Trailing Underscore |\t\\__var__ |\tIndicates special methods defined by the Python language. Avoid this naming scheme for your own attributes.\n",
    "Single Underscore |\t_  |\tSometimes used as a name for temporary or insignificant variables (“don’t care”). Also: The result of the last expression in a Python REPL."
   ]
  }
 ],
 "metadata": {
  "kernelspec": {
   "display_name": "Python 3",
   "language": "python",
   "name": "python3"
  },
  "language_info": {
   "codemirror_mode": {
    "name": "ipython",
    "version": 3
   },
   "file_extension": ".py",
   "mimetype": "text/x-python",
   "name": "python",
   "nbconvert_exporter": "python",
   "pygments_lexer": "ipython3",
   "version": "3.8.5"
  }
 },
 "nbformat": 4,
 "nbformat_minor": 4
}
