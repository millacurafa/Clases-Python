{
 "cells": [
  {
   "cell_type": "markdown",
   "metadata": {},
   "source": [
    "# Python basics contest\n",
    "\n",
    "\n",
    "**Authors:** 'Luis Malave', 'Felipe Millacura', 'Ahmed Bahey'\n",
    "\n",
    "**Date:** '23rd December 2020'\n"
   ]
  },
  {
   "cell_type": "markdown",
   "metadata": {},
   "source": [
    "The questions in this contest could be quite challenging. They are designed to test your new Python skills alongside your programming and puzzle solving skills! You may need to look up new syntax for Python that we've not yet learned. Don't be afraid to play and experiment!\n"
   ]
  },
  {
   "cell_type": "markdown",
   "metadata": {},
   "source": [
    "## When will I graduate?\n",
    "\n",
    "Write a function `grad(id)` that takes a string `id` and **returns** the expected graduation year.\n",
    "\n",
    "Graduation year = admission year + 5\n",
    "\n",
    "\n",
    "    Example:\n",
    "```python\n",
    "    grad(\"161234\") => 'Graduation year is 2021'\n",
    "    grad(\"091234\") => 'Graduation year is 2014'\n",
    "```\n",
    "<div style=\"text-align: right\"><b>Note:</b> The first 2 digits in id should represent the admission year </div>\n",
    "    \n",
    "\n"
   ]
  },
  {
   "cell_type": "code",
   "execution_count": null,
   "metadata": {},
   "outputs": [],
   "source": []
  },
  {
   "cell_type": "markdown",
   "metadata": {},
   "source": [
    "## Am I part of?\n",
    "\n",
    "\n",
    "Write a function **subStr(s1, s2)** that takes two strings `s1` and `s2` and returns the Boolean `True` if `s1` is a substring of `s2` and `False` otherwise.\n",
    "\n",
    "    Example:\n",
    "```python   \n",
    "    subStr(\"he\",\"Hello\") => True\n",
    "    subStr(\"WeLcOmE\",\"comE\") => True\n",
    "    subStr(\"Ramadan\",\"Eat\") => False \n",
    "```\n",
    "<div style=\"text-align: right\"><b>Note:</b> The function should be case insensitive. </div>\n",
    "\n"
   ]
  },
  {
   "cell_type": "code",
   "execution_count": null,
   "metadata": {},
   "outputs": [],
   "source": []
  },
  {
   "cell_type": "markdown",
   "metadata": {},
   "source": [
    "## Let's expand!\n",
    "\n",
    "Write a function `expand`(s) that takes a string `s` and returns a string with the following format:\n",
    "\n",
    "    Example:\n",
    "```python\n",
    "    Code -> CCoCodCode\n",
    "    Hello -> HHeHelHellHello   \n",
    "```"
   ]
  },
  {
   "cell_type": "code",
   "execution_count": null,
   "metadata": {},
   "outputs": [],
   "source": []
  },
  {
   "cell_type": "markdown",
   "metadata": {},
   "source": [
    "## Can you frameshift it?\n",
    "\n",
    "Write a function `cirShift(L,n)` that takes a list `L` and a positive integer `n` and returns the list `[L]` after shifting the items in `L`, *n* places to the right.\n",
    "\n",
    "\n",
    "    Example:\n",
    "```python    \n",
    "    cirShift([1,2,3,4],1) => [4,1,2,3]\n",
    "    cirShift(['a','b','c','d','e'],9) => ['b','c','d','e','a']\n",
    "    cirShift(['a','b','c'],3) => ['a','b','c']\n",
    "    cirShift(['a','b','c'],-1) => ['b', 'c', 'a']\n",
    "```"
   ]
  },
  {
   "cell_type": "code",
   "execution_count": null,
   "metadata": {},
   "outputs": [],
   "source": []
  },
  {
   "cell_type": "markdown",
   "metadata": {},
   "source": [
    "## Take a fraction\n",
    "\n",
    "Write a function `frac(x)` that takes a float number `x` and returns the fraction part of `x`.\n",
    "\n",
    "    Example:\n",
    "    \n",
    "```python    \n",
    "    frac(1.5) => 0.5\n",
    "    frac(3.0) => 0.0\n",
    "```"
   ]
  },
  {
   "cell_type": "code",
   "execution_count": null,
   "metadata": {},
   "outputs": [],
   "source": []
  },
  {
   "cell_type": "markdown",
   "metadata": {},
   "source": [
    "## Try to be positive\n",
    "\n",
    "Write a function `RemNeg (L)` that takes a list `L` and returns a new list with all negative numbers removed.\n",
    "\n",
    "    Example:\n",
    "```python    \n",
    "    L = [1, 2, 3, -1, -2, 0]\n",
    "    RemNeg (L) => [1, 2, 3, 0]\n",
    "```"
   ]
  },
  {
   "cell_type": "code",
   "execution_count": null,
   "metadata": {},
   "outputs": [],
   "source": []
  },
  {
   "cell_type": "markdown",
   "metadata": {},
   "source": [
    "## Common keys\n",
    "\n",
    "Write a function `Intersec(D1, D2)` that takes two dictionaries `D1` and `D2`, and returns a new dictionary with the common keys in `D1` and `D2`.\n",
    "\n",
    "    Example:\n",
    "```python    \n",
    "    D1 = {1:'a', 2:'b', 3:'c'}\n",
    "    D2 = {2:'x', 4:'y', 1:'z'}\n",
    "    Intersec(D1, D2) => {1: ['a', 'z'], 2: ['b', 'x']}\n",
    "```"
   ]
  },
  {
   "cell_type": "code",
   "execution_count": null,
   "metadata": {},
   "outputs": [],
   "source": []
  },
  {
   "cell_type": "markdown",
   "metadata": {},
   "source": [
    "## Round it!\n",
    "\n",
    "Write a function `Round(n)` that takes a float number `n` and returns `n` rounded to the nearest integer.\n",
    "    \n",
    "    Example:\n",
    "```python\n",
    "    Round (3.5) => 4\n",
    "    Round (2.2) => 2\n",
    "```    \n",
    "<div style=\"text-align: right\"><b>Note:</b>  You are not allowed to use the round built-in function</div>"
   ]
  },
  {
   "cell_type": "code",
   "execution_count": null,
   "metadata": {},
   "outputs": [],
   "source": []
  },
  {
   "cell_type": "markdown",
   "metadata": {},
   "source": [
    "## This is odd...\n",
    "\n",
    "Write a function `separate(L)` that takes a list `L` and separates *odd* and *even* numbers in different lists. The function should print the result as follows.\n",
    "\n",
    "    Example:\n",
    "    \n",
    "    >>> separate([1,2,3,4,5,6])\n",
    "    \n",
    "    List of odd numbers [1,3,5]\n",
    "    List of even numbers [2,4,6]\n",
    "    \n",
    "    >>> separate([5,15,25])\n",
    "    \n",
    "    List of odd numbers [5,15,25]\n",
    "    List of even numbers []\n"
   ]
  },
  {
   "cell_type": "code",
   "execution_count": null,
   "metadata": {},
   "outputs": [],
   "source": []
  },
  {
   "cell_type": "markdown",
   "metadata": {},
   "source": [
    "## Mergers and acquisitions\n",
    "\n",
    "Write a function `merge(L1, L2)` that takes 2 lists `L1` and `L2` and returns a list containing all elements from both lists, starting with the 1st element in the 1st list and continuing with the 1st element in the 2nd list and so on. If both lists are not equal in length, then the remaining elements from the longer list should be appended after merging.\n",
    "    \n",
    "    Example:\n",
    "```python    \n",
    "    merge([\"A\",\"B\",\"C\"], [1,2,3]) => [\"A\",1, \"B\",2, \"C\",3]\n",
    "    merge([1,3,5,7,9], [2,4]) => [1,2,3,4,5,7,9]\n",
    "    merge([], [3,5]) => [3,5]\n",
    "```"
   ]
  },
  {
   "cell_type": "code",
   "execution_count": null,
   "metadata": {},
   "outputs": [],
   "source": []
  },
  {
   "cell_type": "markdown",
   "metadata": {},
   "source": [
    "## Who knows where the time goes?\n",
    "\n",
    "Given a list of the years in which people were born, write a **list comprehension** to determine their age based on the current year. Ignore dates and months when calculating this.\n",
    "```python\n",
    "years_of_birth = [1990, 1991, 1990, 1990, 1992, 1991, 1976, 1984, 1940]\n",
    "```"
   ]
  },
  {
   "cell_type": "code",
   "execution_count": null,
   "metadata": {},
   "outputs": [],
   "source": []
  },
  {
   "cell_type": "markdown",
   "metadata": {},
   "source": [
    "## Back to front\n",
    "\n",
    "Write a function `is_palindrome(input_string)` to determine whether an input string is a **palindrome** (i.e. reads the same backwards as forwards, e.g. 'madam'). The function should return `True` if the string is a palindrome and `False` otherwise. As an extension, amend your code so that it strips out spaces from the string. \n",
    "\n",
    "<div style=\"text-align: right\"><b>Hint</b> - to do this efficiently, research methods to reverse a string in Python</div>\n"
   ]
  },
  {
   "cell_type": "code",
   "execution_count": null,
   "metadata": {},
   "outputs": [],
   "source": []
  },
  {
   "cell_type": "markdown",
   "metadata": {},
   "source": [
    "## Multiples of 3 or 5\n",
    "\n",
    "If we list all the natural numbers below 10 that are multiples of 3 or 5, we get 3, 5, 6 and 9. The sum of these multiples is 23.\n",
    "\n",
    "Find the sum of all the multiples of 3 or 5 below 1000.\n",
    "\n",
    "<div style=\"text-align: right\">From Project Euler (Problem 1)</div>"
   ]
  },
  {
   "cell_type": "code",
   "execution_count": null,
   "metadata": {},
   "outputs": [],
   "source": []
  },
  {
   "cell_type": "markdown",
   "metadata": {},
   "source": [
    "## No need to repeat yourself...\n",
    "\n",
    "Write a function `remove_duplicates(input_list)` that takes in an input list of words and removes any duplicates it finds, returning the list without duplicates. For example with input:\n",
    "```python\n",
    "input_list = [\"I\", \"am\", \"counting\", \"my\", \"calories\", \"yet\", \"I\", \"really\", \"want\", \"dessert\", \"I\", \"am\", \"still\", \"hungry\"]`\n",
    "```\n",
    "the function should output: \n",
    "```python\n",
    "[\"I\", \"am\", \"counting\", \"my\", \"calories\", \"yet\", \"really\", \"want\", \"dessert\", \"still\", \"hungry\"]`\n",
    "```\n",
    "\n",
    "<div style=\"text-align: right\"><b>Hint</b> research the <i>in</i> and <i>not</i> keywords in Python. </div>"
   ]
  },
  {
   "cell_type": "code",
   "execution_count": null,
   "metadata": {},
   "outputs": [],
   "source": []
  },
  {
   "cell_type": "markdown",
   "metadata": {},
   "source": [
    "## List overlap\n",
    "\n",
    "Write a function `list_overlap(list_1, list_2)` that returns the **overlap** between two input lists `list_1` and `list_2` of numbers (i.e. the elements present in both lists).  The input lists need not be the same size. For example, for the following inputs:\n",
    "\n",
    "```python\n",
    "list_1 = [1, 4, 5, 6, 6, 5, 10, 11, 12]\n",
    "\n",
    "list_2 = [3, 2, 6, 10]`\n",
    "```\n",
    "the function should output `[6, 10]` (or `[10, 6]`; order isn't important). \n"
   ]
  },
  {
   "cell_type": "code",
   "execution_count": null,
   "metadata": {},
   "outputs": [],
   "source": []
  },
  {
   "cell_type": "markdown",
   "metadata": {},
   "source": [
    "## Even Fibonacci numbers\n",
    "\n",
    "Each new term in a **Fibonacci sequence** is generated by adding the previous two terms. So starting with 1 and 2, the first 10 terms will be:\n",
    "\n",
    "1, 2, 3, 5, 8, 13, 21, 34, 55, 89, ...\n",
    "\n",
    "By considering the terms in this Fibonacci sequence whose values do not exceed four million, find the sum of the even-valued terms.\n",
    "\n",
    "<div style=\"text-align: right\"><b>Hint</b>  research <i>while</i> loops</div>\n",
    "\n",
    "<div style=\"text-align: right\">From Project Euler (Problem 2)</div>"
   ]
  },
  {
   "cell_type": "code",
   "execution_count": null,
   "metadata": {},
   "outputs": [],
   "source": []
  },
  {
   "cell_type": "markdown",
   "metadata": {},
   "source": [
    "## List to dictionary\n",
    "\n",
    "Write a function that accepts a list of strings and returns a dictionary where the keys are the words from the list and the values are the number of times that word appears in the list.\n"
   ]
  },
  {
   "cell_type": "code",
   "execution_count": null,
   "metadata": {},
   "outputs": [],
   "source": []
  },
  {
   "cell_type": "markdown",
   "metadata": {},
   "source": [
    "## Correct the code\n",
    "\n",
    "You are repeatedly sent a message, but there are errors in the message each time it is sent. Write code to determine which character occurs most frequently at each position. For example, suppose you had recorded the following messages:\n",
    "\n",
    "- eedadn\n",
    "- drvtee\n",
    "- eandsr\n",
    "- raavrd\n",
    "- atevrs\n",
    "- tsrnev\n",
    "- sdttsa\n",
    "- rasrtv\n",
    "- nssdts\n",
    "- ntnada\n",
    "- svetve\n",
    "- tesnvt\n",
    "- vntsnd\n",
    "- vrdear\n",
    "- dvrsen\n",
    "- enarar\n",
    "\n",
    "The most common character in the first column is 'e'; in the second, 'a'; in the third, 's'; and so on. Combining these characters returns the error-corrected message 'easter'.\n",
    "\n",
    "Open the file `puzzle3input.txt` and find the error corrected message.\n",
    "\n",
    "<div style=\"text-align: right\">From Advent of Code (2016, day 6)</div>"
   ]
  },
  {
   "cell_type": "code",
   "execution_count": null,
   "metadata": {},
   "outputs": [],
   "source": []
  },
  {
   "cell_type": "markdown",
   "metadata": {},
   "source": [
    "## Finish what you started...\n",
    "\n",
    "Write a function that takes in a list and returns a two-element list containing the *first* and *last* elements of the inputted list. For example, for input `[3, 6, 2,  19]`, the function should return `[3, 19]`\n"
   ]
  },
  {
   "cell_type": "code",
   "execution_count": 1,
   "metadata": {},
   "outputs": [
    {
     "data": {
      "text/plain": [
       "[3, 19]"
      ]
     },
     "execution_count": 1,
     "metadata": {},
     "output_type": "execute_result"
    }
   ],
   "source": []
  },
  {
   "cell_type": "markdown",
   "metadata": {},
   "source": [
    "## Your letters are numbered\n",
    "\n",
    "Write a function that takes in a sentence and returns a dictionary containing a count of letters and digits. For example, for input `\"hello world! 123\"`, the function output should be `{'digits': 3, 'letters': 10}` \n"
   ]
  },
  {
   "cell_type": "code",
   "execution_count": null,
   "metadata": {},
   "outputs": [],
   "source": []
  },
  {
   "cell_type": "markdown",
   "metadata": {},
   "source": [
    "## Lets open a bank account\n",
    "\n",
    "Write a class to model a bank account in a simple way. The class should have a `balance` attribute that starts at a value zero when the account is created, along with methods:\n",
    "\n",
    "  * `get_balance()` - prints balance to screen\n",
    "  * `deposit(amount)` - should deposit any positive `amount` and print new balance to screen, or print an error if `amount` is negative or zero. \n",
    "  * `withdraw(amount)` - should work only if there are sufficient funds in the account, withdraw any positive `amount` and print new balance to screen, otherwise it should print an error message.\n",
    "\n",
    "Create your own bank account object from your class and test that all of your methods work as expected, including testing for expected errors.\n",
    "\n",
    "\n",
    "<div style=\"text-align: right\">\n",
    "    <b>Hint</b> - remember to pass `self` into all methods in the class\n",
    "<div>"
   ]
  },
  {
   "cell_type": "code",
   "execution_count": null,
   "metadata": {},
   "outputs": [],
   "source": []
  },
  {
   "cell_type": "markdown",
   "metadata": {},
   "source": [
    "# Merry Christmas 🤶 🎄 🎅 and Happy New Year🎇 🎆!  "
   ]
  },
  {
   "cell_type": "markdown",
   "metadata": {},
   "source": [
    " "
   ]
  },
  {
   "cell_type": "markdown",
   "metadata": {},
   "source": [
    "# Too easy? Want more?!\n",
    "\n",
    "If you finish these questions and you want more practice, have a look at:\n",
    "\n",
    "* https://projecteuler.net/\n",
    "* https://adventofcode.com/\n",
    "* https://www.kaggle.com/"
   ]
  }
 ],
 "metadata": {
  "kernelspec": {
   "display_name": "Python 3",
   "language": "python",
   "name": "python3"
  },
  "language_info": {
   "codemirror_mode": {
    "name": "ipython",
    "version": 3
   },
   "file_extension": ".py",
   "mimetype": "text/x-python",
   "name": "python",
   "nbconvert_exporter": "python",
   "pygments_lexer": "ipython3",
   "version": "3.8.5"
  }
 },
 "nbformat": 4,
 "nbformat_minor": 4
}
