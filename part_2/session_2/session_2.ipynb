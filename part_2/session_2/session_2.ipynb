{
 "cells": [
  {
   "cell_type": "markdown",
   "metadata": {},
   "source": [
    "# Introduction to Python\n",
    "\n",
    "**Author:** 'Felipe Millacura'\n",
    "\n",
    "**Date:** '13th December 2020'\n",
    "\n",
    "## Learning Objectives\n",
    "\n",
    "* Be able to use Jupyter notebooks\n",
    "* Get exposed to the basics of Python\n",
    "* Understand the differences between Python and other programming languages\n",
    "* Be able to use Python packages"
   ]
  },
  {
   "cell_type": "markdown",
   "metadata": {},
   "source": [
    "## Very short feedback loop and adaptation cycle\n",
    "\n",
    "A common characteristic in **agile software development** is the daily stand-up (a daily scrum in Scrum framework). In a brief session, team members report to each other what they did the previous day toward their team's iteration goal, what they intend to do today toward the goal, and any roadblocks or impediments they can see to the goal.\n",
    "- How are you?\n",
    "- How is the course going?\n",
    "\n",
    "\n",
    "\n",
    "\n"
   ]
  },
  {
   "cell_type": "code",
   "execution_count": 2,
   "metadata": {},
   "outputs": [
    {
     "name": "stdout",
     "output_type": "stream",
     "text": [
      "30\n",
      "29\n",
      "28\n",
      "27\n",
      "26\n",
      "25\n",
      "24\n",
      "23\n",
      "22\n",
      "21\n",
      "20\n",
      "19\n",
      "18\n",
      "17\n",
      "16\n",
      "15\n",
      "14\n",
      "13\n",
      "12\n",
      "11\n",
      "10\n",
      "9\n",
      "8\n",
      "7\n",
      "6\n",
      "5\n",
      "4\n",
      "3\n",
      "2\n",
      "1\n",
      "Time Off!\n"
     ]
    }
   ],
   "source": [
    "import time\n",
    "\n",
    "def countdown(t):\n",
    "    while t > 0:\n",
    "        print(t)\n",
    "        t -= 1\n",
    "        time.sleep(1)\n",
    "        \n",
    "    print(\"Time Off!\")\n",
    "        \n",
    "countdown(30)"
   ]
  },
  {
   "cell_type": "markdown",
   "metadata": {},
   "source": [
    "![agile_sd](https://www.cleart.com/wp-content/uploads/2017/11/what-is-agile-software-development.jpg)"
   ]
  },
  {
   "cell_type": "markdown",
   "metadata": {},
   "source": [
    "## Introduction\n",
    "\n",
    "1.  Python’s popularity & high salary\n",
    "2.    Python is used in Data Science \n",
    "3.    Python’s scripting & automation \n",
    "4.    Python used with Big Data\n",
    "5.    Python supports Testing\n",
    "6.    Computer Graphics in Python\n",
    "7.    Python used in Artificial Intelligence\n",
    "8.    Python in Web Development\n",
    "9.    Python is portable & extensible\n",
    "10.    Python is simple & easy to learn\n",
    "\n",
    "SOURCE: [towardsdatascience.com](https://towardsdatascience.com/top-10-reasons-why-you-need-to-learn-python-as-a-data-scientist-e3d26539ec00)"
   ]
  },
  {
   "cell_type": "markdown",
   "metadata": {},
   "source": [
    "### Simplicity\n",
    "\n",
    "Python is one of the easiest languages to start your journey. Also, its simplicity does not limit your functional possibilities.\n",
    "\n",
    "What gives Python such flexibility? There are multiple factors:\n",
    "\n",
    "    Python is a free and open-source language (\n",
    "    This is a high-level programming\n",
    "    Python is interpreted \n",
    "    It has an enormous community\n",
    "\n",
    "In addition, Python is fast in writing. Just compare these 2 examples written in Java and Python:\n",
    "\n",
    "![python_java](https://d1jnx9ba8s6j9r.cloudfront.net/blog/wp-content/uploads/2018/01/comparison-top-reasons-to-learn-python-Edureka.png)"
   ]
  },
  {
   "cell_type": "markdown",
   "metadata": {},
   "source": [
    "### Scalability\n",
    "\n",
    "Python is a programming language that scales very fast. Among all available languages, Python is a leader in scaling. That means that Python has more and more possibilities.\n",
    "\n",
    "    Python flexibility is super useful for any problem in-app development\n",
    "\n",
    "Any problem can be decided easily with new updates that are coming. Saying that Python provides the best options for newbies because there are many ways to decide the same issue.\n",
    "\n",
    "Even if you have a team of non-Python programmers, who knows C+ +design patterns, Python will be better for them in terms of time needed to develop and verify code correctness.\n",
    "\n",
    "It happens fast because you don`t spend your time to find memory leaks, work for compilation or segmentation faults."
   ]
  },
  {
   "cell_type": "markdown",
   "metadata": {},
   "source": [
    "### Libraries and Frameworks\n",
    "\n",
    "Due to its popularity, Python has hundreds of different libraries and frameworks which is a great addition to your development process. They save a lot of manual time and can easily replace the whole solution.\n",
    "\n",
    "As a Data Scientist, you will find that many of these libraries will be focused on Data Analytics and Machine Learning. Also, there is a huge support for Big Data. I suppose there should be a strong pro why you need to learn Python as your first language.\n",
    "\n",
    "Some of these libraries are given below:\n",
    "\n",
    "    Pandas\n",
    "\n",
    "It is great for data analysis and data handling. Pandas provides data manipulation control.\n",
    "\n",
    "    NumPy\n",
    "\n",
    "NumPy is a free library for numerical computing. It provides high-level math functions along with data manipulations.\n",
    "\n",
    "    SciPy\n",
    "\n",
    "This library is related to scientific and technical computing. SciPy can be used for data optimization and modification, algebra, special functions, etc.\n"
   ]
  },
  {
   "cell_type": "markdown",
   "metadata": {},
   "source": [
    "## Anaconda\n",
    "\n",
    "Anaconda is a distribution of packages built for data science. It comes with conda, a package and environment manager. You'll be using conda to create environments for isolating your projects that use different versions of Python and/or different packages. You'll also use it to install, uninstall, and update packages in your environments. Using Anaconda has made my life working with data much more pleasant.\n",
    "\n",
    "### What is Anaconda Distribution?\n",
    "\n",
    "Anaconda is a program to manage (install, upgrade, or uninstall) packages and environments to use with Python. It's simple to install packages with Anaconda and create virtual environments to work on multiple projects conveniently.\n",
    "\n",
    "Even if you already have Python installed, it will be beneficial to use Anaconda/Miniconda because:\n",
    "\n",
    "    Anaconda comes with a bunch of data science packages; you'll be all set to start working with data.\n",
    "    Using conda to manage your packages and environments will reduce future issues dealing with the various libraries you'll be using.\n",
    "\n",
    "### Python Packages\n",
    "\n",
    "A package is a bunch of modules, where each module consists of a set of classes and function definitions. After installing a particular package, you can import and use the functions defined in that package.\n",
    "\n",
    "If we install Anaconda, then a basic few packages are installed by default. However, you can install any more packages, if needed.\n",
    "\n",
    "### Anaconda Distribution\n",
    "\n",
    "Anaconda is a fairly large download (~500 MB) because it comes with Python's most common data science packages. Anaconda is a software distribution that includes the following:\n",
    "\n",
    "https://www.anaconda.com/products/individual#Downloads\n",
    "\n",
    "**Anaconda Navigator** - It is a graphical user interface that helps open up any installed applications, such as Jupyter notebook or VS code editor. We will learn more about the notebook in the next lesson. See a snapshot of Anaconda Navigator below:\n",
    "\n",
    "![Anaconda GUI](https://video.udacity-data.com/topher/2020/September/5f741d48_screenshot-2020-09-26-at-5.03.28-pm/screenshot-2020-09-26-at-5.03.28-pm.png)\n"
   ]
  },
  {
   "cell_type": "markdown",
   "metadata": {},
   "source": [
    "## Jupyter Notebook\n",
    "\n",
    "The Jupyter Notebook is an open-source web application that allows you to create and share documents that contain live code, equations, visualisations and narrative text. Uses include: data cleaning and transformation, numerical simulation, statistical modelling, data visualisation, machine learning, and much more.\n",
    "\n",
    "There are two versions of Python available: Python 2 and Python 3. Python 3 was an update to Python 2 that isn't backwards compatible. So code written in Python 2 won't necessarily run in Python 3. Python 2 is no longer supported (as of January 2020!) so if you have the choice you should avoid using it.\n",
    "\n",
    "We have installed Jupyter Notebook via the Anaconda Distribution - This includes everything we need, from Python 3.7 to all data science related packages.\n",
    "\n",
    ">\"The open-source Anaconda Distribution is the easiest way to perform Python/R data science and machine learning on Linux, Windows, and Mac OS X.\"\n",
    "\n",
    "You can start up Jupyter Notebook by typing\n",
    "\n",
    "```\n",
    "jupyter notebook\n",
    "```\n",
    "\n",
    "in your terminal. \n",
    "\n",
    "This will start a notebook server in your current location in terminal. If you want to make your notebooks somewhere other than your home directory, you will want to use `cd` to move to the directory you want. \n",
    "\n",
    "- Note that if the terminal drops a \"command not found\" error, you have to add the following to your bash profile:\n",
    "\n",
    "```\n",
    "PATH=$PATH:$HOME/anaconda3/bin\n",
    "```\n",
    "\n",
    "Once you have Jupyter Notebook up and running in your browser, we can create a new notebook by clicking on `New -> Notebook/Python 3`\n",
    "\n",
    "In Jupyter, we are going to work in cells - each cell can hold programming logic, graphs, descriptive text and many more. This is similar to any other Markdown, where we could either write markdown or Python code.\n",
    "\n",
    "Keyboard shortcuts work a little different in Jupyter Notebooks. There are two modes: an editing mode and a command mode. \n",
    "\n",
    "* Press `esc` to enter command mode.\n",
    "* Press `enter` enter editing mode.\n",
    "\n",
    "In editing mode you can write code or markdown and you can run the cell by pressing `shift + enter`.\n",
    "In command mode you have access to a huge range of keyboard shortcuts, including:\n",
    "\n",
    "* The arrow keys will move you between cells\n",
    "* `a` : create a new cell above\n",
    "* `b` : create a new cell below\n",
    "* `dd` : pressing `d` twice, quickly will delete your current cell\n",
    "* `m` : change a code cell into a markdown cell\n",
    "* `y`: change a markdown cell into a code cell\n",
    "\n",
    "[Here are some more handy shortcuts](https://www.cheatography.com/weidadeyue/cheat-sheets/jupyter-notebook/)\n",
    "\n",
    "\n",
    "## Basics\n",
    "\n",
    "Python was intended to be a general purpose programming language that gradually built up its usefulness for data science with a strong community behind it who built extensions and packages for this purpose.\n",
    "\n",
    "The more tools you know the easier it is to pick one that fits the end goal perfectly!"
   ]
  },
  {
   "cell_type": "markdown",
   "metadata": {},
   "source": [
    "## Variable assignment\n",
    "\n",
    "In Python variable assignment is fairly straightforward: The only option we have is the `=` sign.\n",
    "\n",
    "```{python}\n",
    "x = 3\n",
    "print(x)\n",
    "```\n",
    "\n",
    "You could use `print()` to print out values from variables, but in Jupyter Notebook, the result of the last expression will be printed out:\n",
    "\n",
    "```{python}\n",
    "x = 3\n",
    "x\n",
    "```\n",
    "\n",
    "- Note that anything you declare in a cell will be available in the global scope. If you intend to hide something from being exposed, you have to place it into a function.\n"
   ]
  },
  {
   "cell_type": "code",
   "execution_count": 5,
   "metadata": {},
   "outputs": [
    {
     "name": "stdout",
     "output_type": "stream",
     "text": [
      "67\n"
     ]
    }
   ],
   "source": [
    "x = 3\n",
    "\n",
    "y = 67\n",
    "\n",
    "\n",
    "print(y)"
   ]
  },
  {
   "cell_type": "markdown",
   "metadata": {},
   "source": [
    "## Primitive Datatypes\n",
    "\n",
    "Let's compare the different primitive datatypes in Python languages!\n",
    "\n",
    "`text` equivalent is called strings, can be both double-, or single quoted:\n",
    "\n"
   ]
  },
  {
   "cell_type": "code",
   "execution_count": 7,
   "metadata": {},
   "outputs": [
    {
     "data": {
      "text/plain": [
       "'Hello world'"
      ]
     },
     "execution_count": 7,
     "metadata": {},
     "output_type": "execute_result"
    }
   ],
   "source": [
    "\"Hello world!\"\n",
    "'Hello world'"
   ]
  },
  {
   "cell_type": "markdown",
   "metadata": {},
   "source": [
    "The `logical` datatype is called `bool`, standing for boolean - `True` or `False`. This will be returned from logical operations:\n"
   ]
  },
  {
   "cell_type": "code",
   "execution_count": 12,
   "metadata": {},
   "outputs": [
    {
     "name": "stdout",
     "output_type": "stream",
     "text": [
      "False\n"
     ]
    },
    {
     "ename": "NameError",
     "evalue": "name 'FALSE' is not defined",
     "output_type": "error",
     "traceback": [
      "\u001b[1;31m---------------------------------------------------------------------------\u001b[0m",
      "\u001b[1;31mNameError\u001b[0m                                 Traceback (most recent call last)",
      "\u001b[1;32m<ipython-input-12-ff560672d02e>\u001b[0m in \u001b[0;36m<module>\u001b[1;34m\u001b[0m\n\u001b[0;32m      1\u001b[0m \u001b[0mprint\u001b[0m\u001b[1;33m(\u001b[0m\u001b[1;36m4\u001b[0m \u001b[1;33m==\u001b[0m \u001b[1;33m[\u001b[0m\u001b[1;36m4\u001b[0m\u001b[1;33m]\u001b[0m\u001b[1;33m)\u001b[0m\u001b[1;33m\u001b[0m\u001b[1;33m\u001b[0m\u001b[0m\n\u001b[0;32m      2\u001b[0m \u001b[1;33m\u001b[0m\u001b[0m\n\u001b[1;32m----> 3\u001b[1;33m \u001b[0mFALSE\u001b[0m\u001b[1;33m\u001b[0m\u001b[1;33m\u001b[0m\u001b[0m\n\u001b[0m\u001b[0;32m      4\u001b[0m \u001b[0mTRUE\u001b[0m\u001b[1;33m\u001b[0m\u001b[1;33m\u001b[0m\u001b[0m\n",
      "\u001b[1;31mNameError\u001b[0m: name 'FALSE' is not defined"
     ]
    }
   ],
   "source": [
    "print(4 == [4])"
   ]
  },
  {
   "cell_type": "markdown",
   "metadata": {},
   "source": [
    "- Note that only the first letter is capitalised.\n",
    "\n",
    "Logical operations are much the same to other programming languages. You can use `>`, `<`, `>=`, `<=`, `==` `%`. The latter `%` is the remainder after integer division, also known as modulo. \n"
   ]
  },
  {
   "cell_type": "code",
   "execution_count": 13,
   "metadata": {},
   "outputs": [
    {
     "data": {
      "text/plain": [
       "3.3333333333333335"
      ]
     },
     "execution_count": 13,
     "metadata": {},
     "output_type": "execute_result"
    }
   ],
   "source": [
    "10 / 3"
   ]
  },
  {
   "cell_type": "code",
   "execution_count": 14,
   "metadata": {},
   "outputs": [
    {
     "data": {
      "text/plain": [
       "1"
      ]
     },
     "execution_count": 14,
     "metadata": {},
     "output_type": "execute_result"
    }
   ],
   "source": [
    "10 % 3\n"
   ]
  },
  {
   "cell_type": "markdown",
   "metadata": {},
   "source": [
    "An interesting feature is that you can use the keywords `and` and `or` to link logical operations, and this is quite characteristic of Python: it is widely regarded as a very 'human readable' language.\n",
    "\n",
    "The commonly known as `NULL` datatype is called `None`, and it indicates a lack of value.\n"
   ]
  },
  {
   "cell_type": "code",
   "execution_count": 20,
   "metadata": {},
   "outputs": [
    {
     "name": "stdout",
     "output_type": "stream",
     "text": [
      "None\n"
     ]
    },
    {
     "data": {
      "text/plain": [
       "NoneType"
      ]
     },
     "execution_count": 20,
     "metadata": {},
     "output_type": "execute_result"
    }
   ],
   "source": [
    "x = None\n",
    "print(x)\n",
    "\n",
    "type(x)"
   ]
  },
  {
   "cell_type": "markdown",
   "metadata": {},
   "source": [
    "Again with the `numeric` datatype, we differentiate between integers (`int`) and floating point numbers (`float`). \n",
    "\n",
    "- Note that dividing 2 `int`s with each other might result in a `float`\n"
   ]
  },
  {
   "cell_type": "code",
   "execution_count": 50,
   "metadata": {},
   "outputs": [
    {
     "data": {
      "text/plain": [
       "0.6666666666666666"
      ]
     },
     "execution_count": 50,
     "metadata": {},
     "output_type": "execute_result"
    }
   ],
   "source": [
    "2 / 3"
   ]
  },
  {
   "cell_type": "markdown",
   "metadata": {},
   "source": [
    "\n",
    "You can figure out the datatype of a value by using the `type()` function. This is the equivalent of `class()` in R.\n"
   ]
  },
  {
   "cell_type": "code",
   "execution_count": 24,
   "metadata": {},
   "outputs": [
    {
     "name": "stdout",
     "output_type": "stream",
     "text": [
      "False\n"
     ]
    },
    {
     "data": {
      "text/plain": [
       "int"
      ]
     },
     "execution_count": 24,
     "metadata": {},
     "output_type": "execute_result"
    }
   ],
   "source": [
    "print(4==[4])\n",
    "type(4)\n",
    "\n"
   ]
  },
  {
   "cell_type": "markdown",
   "metadata": {},
   "source": [
    "## Lists\n",
    "\n",
    "Python `list`s are indicated by square brackets:\n",
    "\n"
   ]
  },
  {
   "cell_type": "code",
   "execution_count": 25,
   "metadata": {},
   "outputs": [
    {
     "data": {
      "text/plain": [
       "['key', 'wallet', 'phone', 'mask', 4]"
      ]
     },
     "execution_count": 25,
     "metadata": {},
     "output_type": "execute_result"
    }
   ],
   "source": [
    "my_items = [\"key\", \"wallet\", \"phone\", \"mask\", 4]\n",
    "my_items\n"
   ]
  },
  {
   "cell_type": "markdown",
   "metadata": {},
   "source": [
    "By default you can add any type of data to a Python list, so you need to be careful to add either heterogeneous or homogeneous data. Also, in R everything is a vector: a single number is just a one-element numeric vector. However Python distinguishes between a primitive variable and a one-element list. You can see this below.\n"
   ]
  },
  {
   "cell_type": "code",
   "execution_count": 57,
   "metadata": {},
   "outputs": [
    {
     "data": {
      "text/plain": [
       "False"
      ]
     },
     "execution_count": 57,
     "metadata": {},
     "output_type": "execute_result"
    }
   ],
   "source": [
    "5 == [5]"
   ]
  },
  {
   "cell_type": "markdown",
   "metadata": {},
   "source": [
    "As Python is a general purpose programming language, `list`s are **0-indexed**, whereas other programming languages could be **1-indexed**. All this means is that in Python you start counting list entries at zero (so, the )\n",
    "\n",
    "To access an item from a `list`, just use the item's index in square brackets after the variable it's stored in:\n"
   ]
  },
  {
   "cell_type": "code",
   "execution_count": 28,
   "metadata": {},
   "outputs": [
    {
     "data": {
      "text/plain": [
       "4"
      ]
     },
     "execution_count": 28,
     "metadata": {},
     "output_type": "execute_result"
    }
   ],
   "source": [
    "my_items[4]"
   ]
  },
  {
   "cell_type": "markdown",
   "metadata": {},
   "source": [
    "A great feature of Python is that using negative indices makes it possible to access elements from the end of a list, making it easy to access the last item:"
   ]
  },
  {
   "cell_type": "code",
   "execution_count": 30,
   "metadata": {},
   "outputs": [
    {
     "data": {
      "text/plain": [
       "'mask'"
      ]
     },
     "execution_count": 30,
     "metadata": {},
     "output_type": "execute_result"
    }
   ],
   "source": [
    "my_items[-2]"
   ]
  },
  {
   "cell_type": "markdown",
   "metadata": {},
   "source": [
    "Slicing a `list` is another useful feature, giving us a chance to get a subset of data from it, this can be done using indices separated by a colon:\n"
   ]
  },
  {
   "cell_type": "code",
   "execution_count": 32,
   "metadata": {},
   "outputs": [
    {
     "data": {
      "text/plain": [
       "['key', 'wallet', 'phone', 'mask']"
      ]
     },
     "execution_count": 32,
     "metadata": {},
     "output_type": "execute_result"
    }
   ],
   "source": [
    "my_items[0:4]\n"
   ]
  },
  {
   "cell_type": "markdown",
   "metadata": {},
   "source": [
    "- Note that when you slice, it is left-inclusive, but right-exclusive, so the item at index `0` above will be in the output, but the item at index `2` will not. You can also leave out either the first or the second index to start from the beginning or the list, or to include everything through to the end, respectively:\n"
   ]
  },
  {
   "cell_type": "code",
   "execution_count": 34,
   "metadata": {},
   "outputs": [
    {
     "data": {
      "text/plain": [
       "['key', 'wallet']"
      ]
     },
     "execution_count": 34,
     "metadata": {},
     "output_type": "execute_result"
    }
   ],
   "source": [
    "my_items[:2]\n",
    "\n",
    "\n"
   ]
  },
  {
   "cell_type": "code",
   "execution_count": 35,
   "metadata": {},
   "outputs": [
    {
     "data": {
      "text/plain": [
       "['phone', 'mask', 4]"
      ]
     },
     "execution_count": 35,
     "metadata": {},
     "output_type": "execute_result"
    }
   ],
   "source": [
    "my_items[2:]"
   ]
  },
  {
   "cell_type": "markdown",
   "metadata": {},
   "source": [
    "To make a list of numbers, use the function `range()`. The two numbers you give `range()` will define the start and end. Just like slicing this is left-inclusive and right-exclusive. \n"
   ]
  },
  {
   "cell_type": "code",
   "execution_count": 36,
   "metadata": {},
   "outputs": [
    {
     "data": {
      "text/plain": [
       "range(1, 10)"
      ]
     },
     "execution_count": 36,
     "metadata": {},
     "output_type": "execute_result"
    }
   ],
   "source": [
    "range(1, 10)"
   ]
  },
  {
   "cell_type": "markdown",
   "metadata": {},
   "source": [
    "The function `range()` actually produces an object of type 'range'. Don't worry just now about what 'range' objects are, but just realise that you may need to use `list()` to convert them to lists. \n"
   ]
  },
  {
   "cell_type": "code",
   "execution_count": 37,
   "metadata": {},
   "outputs": [
    {
     "data": {
      "text/plain": [
       "range"
      ]
     },
     "execution_count": 37,
     "metadata": {},
     "output_type": "execute_result"
    }
   ],
   "source": [
    "type(range(5, 10))"
   ]
  },
  {
   "cell_type": "code",
   "execution_count": 39,
   "metadata": {},
   "outputs": [
    {
     "data": {
      "text/plain": [
       "range"
      ]
     },
     "execution_count": 39,
     "metadata": {},
     "output_type": "execute_result"
    }
   ],
   "source": [
    "type(range(5, 10))"
   ]
  },
  {
   "cell_type": "markdown",
   "metadata": {},
   "source": [
    "\n",
    "If you provide only the end point, `range()` will automatically start at zero.\n"
   ]
  },
  {
   "cell_type": "code",
   "execution_count": 40,
   "metadata": {},
   "outputs": [
    {
     "data": {
      "text/plain": [
       "[0,\n",
       " 1,\n",
       " 2,\n",
       " 3,\n",
       " 4,\n",
       " 5,\n",
       " 6,\n",
       " 7,\n",
       " 8,\n",
       " 9,\n",
       " 10,\n",
       " 11,\n",
       " 12,\n",
       " 13,\n",
       " 14,\n",
       " 15,\n",
       " 16,\n",
       " 17,\n",
       " 18,\n",
       " 19,\n",
       " 20,\n",
       " 21,\n",
       " 22,\n",
       " 23,\n",
       " 24,\n",
       " 25,\n",
       " 26,\n",
       " 27,\n",
       " 28,\n",
       " 29,\n",
       " 30,\n",
       " 31,\n",
       " 32,\n",
       " 33,\n",
       " 34,\n",
       " 35,\n",
       " 36,\n",
       " 37,\n",
       " 38,\n",
       " 39,\n",
       " 40,\n",
       " 41,\n",
       " 42,\n",
       " 43,\n",
       " 44,\n",
       " 45,\n",
       " 46,\n",
       " 47,\n",
       " 48,\n",
       " 49,\n",
       " 50,\n",
       " 51,\n",
       " 52,\n",
       " 53,\n",
       " 54,\n",
       " 55,\n",
       " 56,\n",
       " 57,\n",
       " 58,\n",
       " 59,\n",
       " 60,\n",
       " 61,\n",
       " 62,\n",
       " 63,\n",
       " 64,\n",
       " 65,\n",
       " 66,\n",
       " 67,\n",
       " 68,\n",
       " 69,\n",
       " 70,\n",
       " 71,\n",
       " 72,\n",
       " 73,\n",
       " 74,\n",
       " 75,\n",
       " 76,\n",
       " 77,\n",
       " 78,\n",
       " 79,\n",
       " 80,\n",
       " 81,\n",
       " 82,\n",
       " 83,\n",
       " 84,\n",
       " 85,\n",
       " 86,\n",
       " 87,\n",
       " 88,\n",
       " 89,\n",
       " 90,\n",
       " 91,\n",
       " 92,\n",
       " 93,\n",
       " 94,\n",
       " 95,\n",
       " 96,\n",
       " 97,\n",
       " 98,\n",
       " 99]"
      ]
     },
     "execution_count": 40,
     "metadata": {},
     "output_type": "execute_result"
    }
   ],
   "source": [
    "list(range(100))\n"
   ]
  },
  {
   "cell_type": "markdown",
   "metadata": {},
   "source": [
    "**Task - 5 minutes**\n",
    "\n",
    "1. Create a list with the following data, and assign it to a variable named `things`:\n",
    "\n",
    "- 'Apple'\n",
    "- 'Grape'\n",
    "- 101\n",
    "- 'Onion'\n",
    "- False\n",
    "\n",
    "Make sure that you don't use quotes around 101 and False.\n",
    "\n",
    "2. Extract the first element of the list.\n",
    "\n",
    "3. Extract the last element of the list.\n",
    "\n",
    "4. Extract everything except the last element of the list.\n",
    "\n",
    "5. What is the type of:\n",
    "\n",
    "1. the 3rd element?\n",
    "2. the 4th element?\n",
    "3. the 5th element?\n",
    "\n",
    "6. Create a list with the following data, using the `range()` function.\n",
    "\n",
    "- 11\n",
    "- 12\n",
    "- 13\n",
    "- 14\n",
    "- 15"
   ]
  },
  {
   "cell_type": "markdown",
   "metadata": {},
   "source": [
    "**Solution**"
   ]
  },
  {
   "cell_type": "code",
   "execution_count": null,
   "metadata": {},
   "outputs": [],
   "source": [
    "# Create a list with the following data, and assign it to a variable named things:\n",
    "\n",
    "things = [\"Apple\", \"Grape\", 101, \"Onion\", False]\n",
    "things"
   ]
  },
  {
   "cell_type": "code",
   "execution_count": null,
   "metadata": {},
   "outputs": [],
   "source": [
    "# Extract the first element of the list.\n",
    "\n",
    "things[0]"
   ]
  },
  {
   "cell_type": "code",
   "execution_count": null,
   "metadata": {},
   "outputs": [],
   "source": [
    "# Extract the last element of the list.\n",
    "\n",
    "things[-1]"
   ]
  },
  {
   "cell_type": "code",
   "execution_count": null,
   "metadata": {},
   "outputs": [],
   "source": [
    "# Extract everything except the last element of the list.\n",
    "\n",
    "things[:4]\n",
    "\n",
    "# Or:\n",
    "\n",
    "things[:-1]"
   ]
  },
  {
   "cell_type": "code",
   "execution_count": null,
   "metadata": {},
   "outputs": [],
   "source": [
    "#What is the type of:\n",
    "\n",
    "# the 3rd element?\n",
    "\n",
    "print(type(things[2]))\n",
    "\n",
    "# the 4th element?\n",
    "\n",
    "print(type(things[3]))\n",
    "\n",
    "# the 5th element?\n",
    "\n",
    "print(type(things[4]))"
   ]
  },
  {
   "cell_type": "code",
   "execution_count": null,
   "metadata": {},
   "outputs": [],
   "source": [
    "# Create a list with the following data, using the `range()` function.\n",
    "\n",
    "list(range(11, 16))"
   ]
  },
  {
   "cell_type": "markdown",
   "metadata": {},
   "source": [
    "## Dictionaries\n",
    "\n",
    "The equivalent of a `dictionary` in Python is often called a `list` or `hash`, or a `hashmap`, or an `associative array` in some other languages.\n",
    "\n",
    "A `dict` is just a set of key-value pairs, where the keys must be unique. We create a `dict` using curly brackets, like so:"
   ]
  },
  {
   "cell_type": "code",
   "execution_count": 41,
   "metadata": {},
   "outputs": [
    {
     "data": {
      "text/plain": [
       "{'name': 'Marcela', 'age': 23}"
      ]
     },
     "execution_count": 41,
     "metadata": {},
     "output_type": "execute_result"
    }
   ],
   "source": [
    "person = {\n",
    "        \"name\": \"Marcela\",\n",
    "        \"age\": 23\n",
    "}\n",
    "person"
   ]
  },
  {
   "cell_type": "markdown",
   "metadata": {},
   "source": [
    "\n",
    "What do you think will happen in the following case? "
   ]
  },
  {
   "cell_type": "code",
   "execution_count": 43,
   "metadata": {},
   "outputs": [
    {
     "data": {
      "text/plain": [
       "{'name': 'Felipe', 'surname': 'Millacura', 'age': 29, 'age2': 29.5}"
      ]
     },
     "execution_count": 43,
     "metadata": {},
     "output_type": "execute_result"
    }
   ],
   "source": [
    "person2 = {\n",
    "        \"name\": \"Felipe\",\n",
    "        \"surname\": \"Millacura\",\n",
    "        \"age\": 29,\n",
    "        \"age2\": 29.5\n",
    "}\n",
    "\n",
    "person2"
   ]
  },
  {
   "cell_type": "markdown",
   "metadata": {},
   "source": [
    "The second use of a key `\"name\"` *overwrites* the first key value pair!\n",
    "\n",
    "- Note that keys should be strings, as this ensures that you can easily create unique keys for every value.\n",
    "\n",
    "You can access items in the same way as with lists: namely by using square brackets and referencing the relevant key."
   ]
  },
  {
   "cell_type": "code",
   "execution_count": 48,
   "metadata": {},
   "outputs": [
    {
     "ename": "TypeError",
     "evalue": "unhashable type: 'list'",
     "output_type": "error",
     "traceback": [
      "\u001b[1;31m---------------------------------------------------------------------------\u001b[0m",
      "\u001b[1;31mTypeError\u001b[0m                                 Traceback (most recent call last)",
      "\u001b[1;32m<ipython-input-48-396ed2e35a91>\u001b[0m in \u001b[0;36m<module>\u001b[1;34m\u001b[0m\n\u001b[1;32m----> 1\u001b[1;33m \u001b[0mperson2\u001b[0m\u001b[1;33m[\u001b[0m\u001b[1;33m[\u001b[0m\u001b[1;34m\"age\"\u001b[0m\u001b[1;33m,\u001b[0m \u001b[1;34m\"age2\"\u001b[0m\u001b[1;33m]\u001b[0m\u001b[1;33m]\u001b[0m\u001b[1;33m\u001b[0m\u001b[1;33m\u001b[0m\u001b[0m\n\u001b[0m",
      "\u001b[1;31mTypeError\u001b[0m: unhashable type: 'list'"
     ]
    }
   ],
   "source": [
    "person2[\"age\", \"age2\"]"
   ]
  },
  {
   "cell_type": "markdown",
   "metadata": {},
   "source": [
    "To find out how many items there are in a `list`, or key-value pairs in a `dict`, we can use the `len()` function:\n"
   ]
  },
  {
   "cell_type": "code",
   "execution_count": 49,
   "metadata": {},
   "outputs": [
    {
     "data": {
      "text/plain": [
       "4"
      ]
     },
     "execution_count": 49,
     "metadata": {},
     "output_type": "execute_result"
    }
   ],
   "source": [
    "len(person2)"
   ]
  },
  {
   "cell_type": "code",
   "execution_count": 50,
   "metadata": {},
   "outputs": [
    {
     "data": {
      "text/plain": [
       "5"
      ]
     },
     "execution_count": 50,
     "metadata": {},
     "output_type": "execute_result"
    }
   ],
   "source": [
    "len(my_items)"
   ]
  },
  {
   "cell_type": "markdown",
   "metadata": {},
   "source": [
    "## Using built-in functions"
   ]
  },
  {
   "cell_type": "markdown",
   "metadata": {},
   "source": [
    "Functions in Python work very similarly to those in other programming anguages. We call a function by putting brackets after the function name (along with any required or desired arguments):"
   ]
  },
  {
   "cell_type": "code",
   "execution_count": 54,
   "metadata": {},
   "outputs": [
    {
     "ename": "TypeError",
     "evalue": "unsupported operand type(s) for +: 'int' and 'str'",
     "output_type": "error",
     "traceback": [
      "\u001b[1;31m---------------------------------------------------------------------------\u001b[0m",
      "\u001b[1;31mTypeError\u001b[0m                                 Traceback (most recent call last)",
      "\u001b[1;32m<ipython-input-54-3fe6dec95a48>\u001b[0m in \u001b[0;36m<module>\u001b[1;34m\u001b[0m\n\u001b[1;32m----> 1\u001b[1;33m \u001b[0msum\u001b[0m\u001b[1;33m(\u001b[0m\u001b[1;33m[\u001b[0m\u001b[1;36m1\u001b[0m\u001b[1;33m,\u001b[0m \u001b[1;36m2\u001b[0m\u001b[1;33m,\u001b[0m \u001b[1;36m3\u001b[0m\u001b[1;33m,\u001b[0m \u001b[1;34m\"string\"\u001b[0m\u001b[1;33m]\u001b[0m\u001b[1;33m)\u001b[0m\u001b[1;33m\u001b[0m\u001b[1;33m\u001b[0m\u001b[0m\n\u001b[0m",
      "\u001b[1;31mTypeError\u001b[0m: unsupported operand type(s) for +: 'int' and 'str'"
     ]
    }
   ],
   "source": [
    "sum([1, 2, 3, \"string\"])"
   ]
  },
  {
   "cell_type": "markdown",
   "metadata": {},
   "source": [
    "One major difference could be that Python is a very object-oriented language - almost everything is an object in Python. This means that, on occassion, functions are not called in a 'functional' way. \n",
    "In Python, we often call functions that 'live' on an object. These functions are called **methods**: methods are functions that live on objects.\n",
    "\n",
    "Here's a 'real world' example! Imagine we have two `Dog` objects: `fido` and `rex`. Both of these 'Dog' objects have a `bark()` method, because all `Dog`s can bark! \n",
    "\n",
    "In Python we call a method on an object by a syntax like `fido.bark()` - this will make `fido` bark. Similarly `rex.bark()` will make `rex` bark. Each of the `Dog` objects has it's own `bark()` method 'living' on the object.\n",
    "\n",
    "Let's see a more useful example:"
   ]
  },
  {
   "cell_type": "code",
   "execution_count": 59,
   "metadata": {},
   "outputs": [
    {
     "name": "stdout",
     "output_type": "stream",
     "text": [
      "['cat', 'cow', 'dog', 'eagle']\n",
      "['cat', 'cow', 'dog', 'eagle']\n"
     ]
    }
   ],
   "source": [
    "animals = [\"dog\", \"cat\", \"cow\", \"eagle\"]\n",
    "\n",
    "print(animals)\n",
    "\n",
    "animals.sort()\n",
    "\n",
    "print(animals)\n"
   ]
  },
  {
   "cell_type": "markdown",
   "metadata": {},
   "source": [
    "Here, the `sort()` method 'lives' on the `animals` list. Think of all Python lists as coming equipped with this method, along with many others.\n",
    "\n",
    "You might have noticed another major difference in the code above. In Python methods often act **in-place** i.e. they change the origional object and don't create a copy.\n"
   ]
  },
  {
   "cell_type": "markdown",
   "metadata": {},
   "source": [
    "Adding or removing items from a list is done with the following methods:\n",
    "\n",
    "* `pop()` : remove last, and return it\n",
    "* `remove()` : remove a specified item\n",
    "* `append()` : add an element to a list\n",
    "* `extend()` : merge elements into a list\n",
    "\n",
    "All of these operate in-place."
   ]
  },
  {
   "cell_type": "code",
   "execution_count": 61,
   "metadata": {},
   "outputs": [
    {
     "data": {
      "text/plain": [
       "['cat', 'cow', 'dog']"
      ]
     },
     "execution_count": 61,
     "metadata": {},
     "output_type": "execute_result"
    }
   ],
   "source": [
    "animals.pop()\n",
    "# removes last item 33)\n",
    "animals"
   ]
  },
  {
   "cell_type": "code",
   "execution_count": 62,
   "metadata": {},
   "outputs": [
    {
     "data": {
      "text/plain": [
       "['cat', 'cow', 'dog', 5]"
      ]
     },
     "execution_count": 62,
     "metadata": {},
     "output_type": "execute_result"
    }
   ],
   "source": [
    "animals.append(5)\n",
    "# adds number 5 to list\n",
    "animals"
   ]
  },
  {
   "cell_type": "code",
   "execution_count": 63,
   "metadata": {},
   "outputs": [
    {
     "data": {
      "text/plain": [
       "['cat', 'cow', 'dog']"
      ]
     },
     "execution_count": 63,
     "metadata": {},
     "output_type": "execute_result"
    }
   ],
   "source": [
    "animals.remove(5)\n",
    "# removes number 5 from list\n",
    "animals"
   ]
  },
  {
   "cell_type": "markdown",
   "metadata": {},
   "source": [
    "`append()` and `extend()` behave differently when given a list.\n",
    "\n",
    "`append()` directly adds the list as an element:"
   ]
  },
  {
   "cell_type": "code",
   "execution_count": 64,
   "metadata": {},
   "outputs": [
    {
     "data": {
      "text/plain": [
       "['cat', 'cow', 'dog', [7, 3, 99]]"
      ]
     },
     "execution_count": 64,
     "metadata": {},
     "output_type": "execute_result"
    }
   ],
   "source": [
    "animals.append([7, 3, 99])\n",
    "animals"
   ]
  },
  {
   "cell_type": "markdown",
   "metadata": {},
   "source": [
    "While `extend()` adds the elements of the list, into the list.\n"
   ]
  },
  {
   "cell_type": "code",
   "execution_count": 69,
   "metadata": {},
   "outputs": [
    {
     "data": {
      "text/plain": [
       "['cat', 'cow', 'dog', 7, 3, 99]"
      ]
     },
     "execution_count": 69,
     "metadata": {},
     "output_type": "execute_result"
    }
   ],
   "source": [
    "#animals.remove([7, 3, 99])\n",
    "\n",
    "animals\n",
    "\n",
    "animals.extend([7, 3, 99])\n",
    "animals\n"
   ]
  },
  {
   "cell_type": "markdown",
   "metadata": {},
   "source": [
    "Adding or removing key-values pairs to dicts can be done using the `update({\"existing key\": \"updated value\", \"new key\": \"new value\"})` or `pop(keyname)` methods respectively."
   ]
  },
  {
   "cell_type": "code",
   "execution_count": 70,
   "metadata": {},
   "outputs": [
    {
     "data": {
      "text/plain": [
       "{'name': 'Francisca',\n",
       " 'surname': 'Millacura',\n",
       " 'age': 29,\n",
       " 'age2': 29.5,\n",
       " 'preferred music': ['rock', 'salsa']}"
      ]
     },
     "execution_count": 70,
     "metadata": {},
     "output_type": "execute_result"
    }
   ],
   "source": [
    "person2.update({\"name\": \"Francisca\", \"preferred music\": [\"rock\", \"salsa\"]})\n",
    "#person.pop(\"age\")\n",
    "person2"
   ]
  },
  {
   "cell_type": "markdown",
   "metadata": {},
   "source": [
    "- Note that even though the method `pop()` exists on both collection types, they behave differently, and most methods will be datatype-exclusive. Refer to the documentation for help with this.\n"
   ]
  },
  {
   "cell_type": "markdown",
   "metadata": {},
   "source": [
    "Below is a vector containing the first 5 prime numbers\n",
    "\n",
    "```{python}\n",
    "primes = [1, 2, 3, 5, 7]\n",
    "```\n",
    "\n",
    "1. Oops, 1 isn't prime. Remove it from the list.\n",
    "\n",
    "2. Now add the next 3 prime numbers (11, 13, 17).\n",
    "\n",
    "3. Now use the method `reverse()` to reverse the list. Print out the reversed list.\n"
   ]
  },
  {
   "cell_type": "code",
   "execution_count": null,
   "metadata": {},
   "outputs": [],
   "source": []
  },
  {
   "cell_type": "markdown",
   "metadata": {},
   "source": [
    "## Importing\n",
    "\n",
    "Even though Jupyter Notebook comes with hundreds of packages installed, most of their functionality can only be accessed by importing selected packages. You can import and use packages as follows:\n"
   ]
  },
  {
   "cell_type": "code",
   "execution_count": 74,
   "metadata": {},
   "outputs": [],
   "source": [
    "import pandas as pd\n",
    "df = pd.read_csv('https://raw.githubusercontent.com/MinCiencia/Datos-COVID19/master/output/producto25/CasosActualesPorComuna_std.csv')"
   ]
  },
  {
   "cell_type": "code",
   "execution_count": 75,
   "metadata": {},
   "outputs": [
    {
     "data": {
      "text/html": [
       "<div>\n",
       "<style scoped>\n",
       "    .dataframe tbody tr th:only-of-type {\n",
       "        vertical-align: middle;\n",
       "    }\n",
       "\n",
       "    .dataframe tbody tr th {\n",
       "        vertical-align: top;\n",
       "    }\n",
       "\n",
       "    .dataframe thead th {\n",
       "        text-align: right;\n",
       "    }\n",
       "</style>\n",
       "<table border=\"1\" class=\"dataframe\">\n",
       "  <thead>\n",
       "    <tr style=\"text-align: right;\">\n",
       "      <th></th>\n",
       "      <th>Region</th>\n",
       "      <th>Codigo region</th>\n",
       "      <th>Comuna</th>\n",
       "      <th>Codigo comuna</th>\n",
       "      <th>Poblacion</th>\n",
       "      <th>Fecha</th>\n",
       "      <th>Casos actuales</th>\n",
       "    </tr>\n",
       "  </thead>\n",
       "  <tbody>\n",
       "    <tr>\n",
       "      <th>0</th>\n",
       "      <td>Arica y Parinacota</td>\n",
       "      <td>15</td>\n",
       "      <td>Arica</td>\n",
       "      <td>15101.0</td>\n",
       "      <td>247552.0</td>\n",
       "      <td>2020-04-13</td>\n",
       "      <td>88.0</td>\n",
       "    </tr>\n",
       "    <tr>\n",
       "      <th>1</th>\n",
       "      <td>Arica y Parinacota</td>\n",
       "      <td>15</td>\n",
       "      <td>Camarones</td>\n",
       "      <td>15102.0</td>\n",
       "      <td>1233.0</td>\n",
       "      <td>2020-04-13</td>\n",
       "      <td>0.0</td>\n",
       "    </tr>\n",
       "    <tr>\n",
       "      <th>2</th>\n",
       "      <td>Arica y Parinacota</td>\n",
       "      <td>15</td>\n",
       "      <td>General Lagos</td>\n",
       "      <td>15202.0</td>\n",
       "      <td>810.0</td>\n",
       "      <td>2020-04-13</td>\n",
       "      <td>0.0</td>\n",
       "    </tr>\n",
       "    <tr>\n",
       "      <th>3</th>\n",
       "      <td>Arica y Parinacota</td>\n",
       "      <td>15</td>\n",
       "      <td>Putre</td>\n",
       "      <td>15201.0</td>\n",
       "      <td>2515.0</td>\n",
       "      <td>2020-04-13</td>\n",
       "      <td>0.0</td>\n",
       "    </tr>\n",
       "    <tr>\n",
       "      <th>4</th>\n",
       "      <td>Arica y Parinacota</td>\n",
       "      <td>15</td>\n",
       "      <td>Desconocido Arica y Parinacota</td>\n",
       "      <td>NaN</td>\n",
       "      <td>NaN</td>\n",
       "      <td>2020-04-13</td>\n",
       "      <td>NaN</td>\n",
       "    </tr>\n",
       "    <tr>\n",
       "      <th>...</th>\n",
       "      <td>...</td>\n",
       "      <td>...</td>\n",
       "      <td>...</td>\n",
       "      <td>...</td>\n",
       "      <td>...</td>\n",
       "      <td>...</td>\n",
       "      <td>...</td>\n",
       "    </tr>\n",
       "    <tr>\n",
       "      <th>26455</th>\n",
       "      <td>Magallanes y la Antartica</td>\n",
       "      <td>12</td>\n",
       "      <td>San Gregorio</td>\n",
       "      <td>12104.0</td>\n",
       "      <td>681.0</td>\n",
       "      <td>2020-12-11</td>\n",
       "      <td>0.0</td>\n",
       "    </tr>\n",
       "    <tr>\n",
       "      <th>26456</th>\n",
       "      <td>Magallanes y la Antartica</td>\n",
       "      <td>12</td>\n",
       "      <td>Timaukel</td>\n",
       "      <td>12303.0</td>\n",
       "      <td>282.0</td>\n",
       "      <td>2020-12-11</td>\n",
       "      <td>0.0</td>\n",
       "    </tr>\n",
       "    <tr>\n",
       "      <th>26457</th>\n",
       "      <td>Magallanes y la Antartica</td>\n",
       "      <td>12</td>\n",
       "      <td>Torres del Paine</td>\n",
       "      <td>12402.0</td>\n",
       "      <td>1021.0</td>\n",
       "      <td>2020-12-11</td>\n",
       "      <td>1.0</td>\n",
       "    </tr>\n",
       "    <tr>\n",
       "      <th>26458</th>\n",
       "      <td>Magallanes y la Antartica</td>\n",
       "      <td>12</td>\n",
       "      <td>Desconocido Magallanes</td>\n",
       "      <td>NaN</td>\n",
       "      <td>NaN</td>\n",
       "      <td>2020-12-11</td>\n",
       "      <td>0.0</td>\n",
       "    </tr>\n",
       "    <tr>\n",
       "      <th>26459</th>\n",
       "      <td>Magallanes y la Antartica</td>\n",
       "      <td>12</td>\n",
       "      <td>Total</td>\n",
       "      <td>NaN</td>\n",
       "      <td>178362.0</td>\n",
       "      <td>2020-12-11</td>\n",
       "      <td>601.0</td>\n",
       "    </tr>\n",
       "  </tbody>\n",
       "</table>\n",
       "<p>26460 rows × 7 columns</p>\n",
       "</div>"
      ],
      "text/plain": [
       "                          Region  Codigo region  \\\n",
       "0             Arica y Parinacota             15   \n",
       "1             Arica y Parinacota             15   \n",
       "2             Arica y Parinacota             15   \n",
       "3             Arica y Parinacota             15   \n",
       "4             Arica y Parinacota             15   \n",
       "...                          ...            ...   \n",
       "26455  Magallanes y la Antartica             12   \n",
       "26456  Magallanes y la Antartica             12   \n",
       "26457  Magallanes y la Antartica             12   \n",
       "26458  Magallanes y la Antartica             12   \n",
       "26459  Magallanes y la Antartica             12   \n",
       "\n",
       "                               Comuna  Codigo comuna  Poblacion       Fecha  \\\n",
       "0                               Arica        15101.0   247552.0  2020-04-13   \n",
       "1                           Camarones        15102.0     1233.0  2020-04-13   \n",
       "2                       General Lagos        15202.0      810.0  2020-04-13   \n",
       "3                               Putre        15201.0     2515.0  2020-04-13   \n",
       "4      Desconocido Arica y Parinacota            NaN        NaN  2020-04-13   \n",
       "...                               ...            ...        ...         ...   \n",
       "26455                    San Gregorio        12104.0      681.0  2020-12-11   \n",
       "26456                        Timaukel        12303.0      282.0  2020-12-11   \n",
       "26457                Torres del Paine        12402.0     1021.0  2020-12-11   \n",
       "26458          Desconocido Magallanes            NaN        NaN  2020-12-11   \n",
       "26459                           Total            NaN   178362.0  2020-12-11   \n",
       "\n",
       "       Casos actuales  \n",
       "0                88.0  \n",
       "1                 0.0  \n",
       "2                 0.0  \n",
       "3                 0.0  \n",
       "4                 NaN  \n",
       "...               ...  \n",
       "26455             0.0  \n",
       "26456             0.0  \n",
       "26457             1.0  \n",
       "26458             0.0  \n",
       "26459           601.0  \n",
       "\n",
       "[26460 rows x 7 columns]"
      ]
     },
     "execution_count": 75,
     "metadata": {},
     "output_type": "execute_result"
    }
   ],
   "source": [
    "df"
   ]
  },
  {
   "cell_type": "code",
   "execution_count": 78,
   "metadata": {},
   "outputs": [
    {
     "data": {
      "text/html": [
       "<div>\n",
       "<style scoped>\n",
       "    .dataframe tbody tr th:only-of-type {\n",
       "        vertical-align: middle;\n",
       "    }\n",
       "\n",
       "    .dataframe tbody tr th {\n",
       "        vertical-align: top;\n",
       "    }\n",
       "\n",
       "    .dataframe thead th {\n",
       "        text-align: right;\n",
       "    }\n",
       "</style>\n",
       "<table border=\"1\" class=\"dataframe\">\n",
       "  <thead>\n",
       "    <tr style=\"text-align: right;\">\n",
       "      <th></th>\n",
       "      <th>Region</th>\n",
       "      <th>Codigo region</th>\n",
       "      <th>Comuna</th>\n",
       "      <th>Codigo comuna</th>\n",
       "      <th>Poblacion</th>\n",
       "      <th>Fecha</th>\n",
       "      <th>Casos actuales</th>\n",
       "    </tr>\n",
       "  </thead>\n",
       "  <tbody>\n",
       "    <tr>\n",
       "      <th>15</th>\n",
       "      <td>Antofagasta</td>\n",
       "      <td>2</td>\n",
       "      <td>Antofagasta</td>\n",
       "      <td>2101.0</td>\n",
       "      <td>425725.0</td>\n",
       "      <td>2020-04-13</td>\n",
       "      <td>50.0</td>\n",
       "    </tr>\n",
       "    <tr>\n",
       "      <th>393</th>\n",
       "      <td>Antofagasta</td>\n",
       "      <td>2</td>\n",
       "      <td>Antofagasta</td>\n",
       "      <td>2101.0</td>\n",
       "      <td>425725.0</td>\n",
       "      <td>2020-04-15</td>\n",
       "      <td>55.0</td>\n",
       "    </tr>\n",
       "    <tr>\n",
       "      <th>771</th>\n",
       "      <td>Antofagasta</td>\n",
       "      <td>2</td>\n",
       "      <td>Antofagasta</td>\n",
       "      <td>2101.0</td>\n",
       "      <td>425725.0</td>\n",
       "      <td>2020-04-17</td>\n",
       "      <td>63.0</td>\n",
       "    </tr>\n",
       "    <tr>\n",
       "      <th>1149</th>\n",
       "      <td>Antofagasta</td>\n",
       "      <td>2</td>\n",
       "      <td>Antofagasta</td>\n",
       "      <td>2101.0</td>\n",
       "      <td>425725.0</td>\n",
       "      <td>2020-04-20</td>\n",
       "      <td>88.0</td>\n",
       "    </tr>\n",
       "    <tr>\n",
       "      <th>1527</th>\n",
       "      <td>Antofagasta</td>\n",
       "      <td>2</td>\n",
       "      <td>Antofagasta</td>\n",
       "      <td>2101.0</td>\n",
       "      <td>425725.0</td>\n",
       "      <td>2020-04-24</td>\n",
       "      <td>128.0</td>\n",
       "    </tr>\n",
       "    <tr>\n",
       "      <th>...</th>\n",
       "      <td>...</td>\n",
       "      <td>...</td>\n",
       "      <td>...</td>\n",
       "      <td>...</td>\n",
       "      <td>...</td>\n",
       "      <td>...</td>\n",
       "      <td>...</td>\n",
       "    </tr>\n",
       "    <tr>\n",
       "      <th>24585</th>\n",
       "      <td>Antofagasta</td>\n",
       "      <td>2</td>\n",
       "      <td>Antofagasta</td>\n",
       "      <td>2101.0</td>\n",
       "      <td>425725.0</td>\n",
       "      <td>2020-11-27</td>\n",
       "      <td>121.0</td>\n",
       "    </tr>\n",
       "    <tr>\n",
       "      <th>24963</th>\n",
       "      <td>Antofagasta</td>\n",
       "      <td>2</td>\n",
       "      <td>Antofagasta</td>\n",
       "      <td>2101.0</td>\n",
       "      <td>425725.0</td>\n",
       "      <td>2020-11-30</td>\n",
       "      <td>120.0</td>\n",
       "    </tr>\n",
       "    <tr>\n",
       "      <th>25341</th>\n",
       "      <td>Antofagasta</td>\n",
       "      <td>2</td>\n",
       "      <td>Antofagasta</td>\n",
       "      <td>2101.0</td>\n",
       "      <td>425725.0</td>\n",
       "      <td>2020-12-04</td>\n",
       "      <td>117.0</td>\n",
       "    </tr>\n",
       "    <tr>\n",
       "      <th>25719</th>\n",
       "      <td>Antofagasta</td>\n",
       "      <td>2</td>\n",
       "      <td>Antofagasta</td>\n",
       "      <td>2101.0</td>\n",
       "      <td>425725.0</td>\n",
       "      <td>2020-12-07</td>\n",
       "      <td>106.0</td>\n",
       "    </tr>\n",
       "    <tr>\n",
       "      <th>26097</th>\n",
       "      <td>Antofagasta</td>\n",
       "      <td>2</td>\n",
       "      <td>Antofagasta</td>\n",
       "      <td>2101.0</td>\n",
       "      <td>425725.0</td>\n",
       "      <td>2020-12-11</td>\n",
       "      <td>153.0</td>\n",
       "    </tr>\n",
       "  </tbody>\n",
       "</table>\n",
       "<p>70 rows × 7 columns</p>\n",
       "</div>"
      ],
      "text/plain": [
       "            Region  Codigo region       Comuna  Codigo comuna  Poblacion  \\\n",
       "15     Antofagasta              2  Antofagasta         2101.0   425725.0   \n",
       "393    Antofagasta              2  Antofagasta         2101.0   425725.0   \n",
       "771    Antofagasta              2  Antofagasta         2101.0   425725.0   \n",
       "1149   Antofagasta              2  Antofagasta         2101.0   425725.0   \n",
       "1527   Antofagasta              2  Antofagasta         2101.0   425725.0   \n",
       "...            ...            ...          ...            ...        ...   \n",
       "24585  Antofagasta              2  Antofagasta         2101.0   425725.0   \n",
       "24963  Antofagasta              2  Antofagasta         2101.0   425725.0   \n",
       "25341  Antofagasta              2  Antofagasta         2101.0   425725.0   \n",
       "25719  Antofagasta              2  Antofagasta         2101.0   425725.0   \n",
       "26097  Antofagasta              2  Antofagasta         2101.0   425725.0   \n",
       "\n",
       "            Fecha  Casos actuales  \n",
       "15     2020-04-13            50.0  \n",
       "393    2020-04-15            55.0  \n",
       "771    2020-04-17            63.0  \n",
       "1149   2020-04-20            88.0  \n",
       "1527   2020-04-24           128.0  \n",
       "...           ...             ...  \n",
       "24585  2020-11-27           121.0  \n",
       "24963  2020-11-30           120.0  \n",
       "25341  2020-12-04           117.0  \n",
       "25719  2020-12-07           106.0  \n",
       "26097  2020-12-11           153.0  \n",
       "\n",
       "[70 rows x 7 columns]"
      ]
     },
     "execution_count": 78,
     "metadata": {},
     "output_type": "execute_result"
    }
   ],
   "source": [
    "df[(df[\"Comuna\"]==\"Antofagasta\")]"
   ]
  },
  {
   "cell_type": "markdown",
   "metadata": {},
   "source": [
    "If you want to install a new package, you use the following command **in the terminal**."
   ]
  },
  {
   "cell_type": "code",
   "execution_count": null,
   "metadata": {},
   "outputs": [],
   "source": [
    "!conda install #something"
   ]
  },
  {
   "cell_type": "markdown",
   "metadata": {},
   "source": [
    "For example"
   ]
  },
  {
   "cell_type": "code",
   "execution_count": 79,
   "metadata": {},
   "outputs": [
    {
     "name": "stdout",
     "output_type": "stream",
     "text": [
      "Requirement already satisfied: requests in c:\\users\\fmill\\anaconda3\\lib\\site-packages (2.24.0)\n",
      "Requirement already satisfied: certifi>=2017.4.17 in c:\\users\\fmill\\anaconda3\\lib\\site-packages (from requests) (2020.12.5)\n",
      "Requirement already satisfied: chardet<4,>=3.0.2 in c:\\users\\fmill\\anaconda3\\lib\\site-packages (from requests) (3.0.4)\n",
      "Requirement already satisfied: urllib3!=1.25.0,!=1.25.1,<1.26,>=1.21.1 in c:\\users\\fmill\\anaconda3\\lib\\site-packages (from requests) (1.25.11)\n",
      "Requirement already satisfied: idna<3,>=2.5 in c:\\users\\fmill\\anaconda3\\lib\\site-packages (from requests) (2.10)\n"
     ]
    }
   ],
   "source": [
    "!conda install requests"
   ]
  },
  {
   "cell_type": "markdown",
   "metadata": {},
   "source": [
    "`conda` is the Anaconda package manager. Note that you do not install packages from inside Python. You must do it from the command line."
   ]
  }
 ],
 "metadata": {
  "kernelspec": {
   "display_name": "Python 3",
   "language": "python",
   "name": "python3"
  },
  "language_info": {
   "codemirror_mode": {
    "name": "ipython",
    "version": 3
   },
   "file_extension": ".py",
   "mimetype": "text/x-python",
   "name": "python",
   "nbconvert_exporter": "python",
   "pygments_lexer": "ipython3",
   "version": "3.8.10"
  }
 },
 "nbformat": 4,
 "nbformat_minor": 4
}
